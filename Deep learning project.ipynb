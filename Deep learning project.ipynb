{
 "cells": [
  {
   "cell_type": "markdown",
   "id": "eaba4c13-96f6-4f1b-9832-ce03b44f1b5a",
   "metadata": {},
   "source": [
    "Step 1 : Load, label and combine the dataset"
   ]
  },
  {
   "cell_type": "code",
   "execution_count": 3,
   "id": "c784aed8-6b0e-4582-af0c-a7c21723f920",
   "metadata": {},
   "outputs": [
    {
     "name": "stdout",
     "output_type": "stream",
     "text": [
      "Class Distribution:\n",
      " label\n",
      "0    23481\n",
      "1    21417\n",
      "Name: count, dtype: int64\n"
     ]
    }
   ],
   "source": [
    "import pandas as pd\n",
    "true_df = pd.read_csv(\"C:/Users/User/Downloads/True.csv\")\n",
    "fake_df = pd.read_csv(\"C:/Users/User/Downloads/Fake.csv\")\n",
    "true_df['label'] = 1\n",
    "fake_df['label'] = 0\n",
    "combined_df = pd.concat([true_df, fake_df], ignore_index=True)\n",
    "combined_df = combined_df.sample(frac=1, random_state=42).reset_index(drop=True)\n",
    "print(\"Class Distribution:\\n\", combined_df['label'].value_counts())\n"
   ]
  },
  {
   "cell_type": "markdown",
   "id": "9d9d2be0-0447-432c-97f0-6abb0942be9b",
   "metadata": {},
   "source": [
    "Step 2 : Clean the text data"
   ]
  },
  {
   "cell_type": "code",
   "execution_count": 5,
   "id": "0b354b95-ac55-475e-8aea-c8f9a60636e6",
   "metadata": {},
   "outputs": [
    {
     "name": "stdout",
     "output_type": "stream",
     "text": [
      "\n",
      "Sample Cleaned Text:\n",
      "\n",
      "                                          clean_text  label\n",
      "0  donald trump s white house is in chaos and the...      0\n",
      "1  now that donald trump is the presumptive gop n...      0\n",
      "2  mike pence is a huge homophobe he supports exg...      0\n",
      "3  san francisco reuters california attorney gene...      1\n",
      "4  twisted reasoning is all that comes from pelos...      0\n"
     ]
    }
   ],
   "source": [
    "import re\n",
    "\n",
    "def clean_text(text):\n",
    "    text = text.lower()\n",
    "    text = re.sub(r'\\[.*?\\]', '', text)\n",
    "    text = re.sub(r'http\\S+|www\\S+', '', text)\n",
    "    text = re.sub(r'<.*?>+', '', text)\n",
    "    text = re.sub(r'[^a-z\\s]', '', text)\n",
    "    text = re.sub(r'\\s+', ' ', text).strip()\n",
    "    return text\n",
    "combined_df['clean_text'] = combined_df['text'].astype(str).apply(clean_text)\n",
    "print(\"\\nSample Cleaned Text:\\n\")\n",
    "print(combined_df[['clean_text', 'label']].head())\n"
   ]
  },
  {
   "cell_type": "markdown",
   "id": "af4b9d40-40ef-4360-8c8d-3e664af47957",
   "metadata": {},
   "source": [
    "Step 3 : Split train and test data"
   ]
  },
  {
   "cell_type": "code",
   "execution_count": 6,
   "id": "2843de15-4150-4541-a066-f94686f25b3b",
   "metadata": {},
   "outputs": [
    {
     "name": "stdout",
     "output_type": "stream",
     "text": [
      "\n",
      "Step 3: Dataset Split\n",
      "Training samples: 35918\n",
      "Testing samples : 8980\n"
     ]
    }
   ],
   "source": [
    "from sklearn.model_selection import train_test_split\n",
    "\n",
    "X = combined_df['clean_text'].values\n",
    "y = combined_df['label'].values\n",
    "\n",
    "X_train, X_test, y_train, y_test = train_test_split(\n",
    "    X, y, test_size=0.2, random_state=42, stratify=y\n",
    ")\n",
    "\n",
    "print(\"\\nStep 3: Dataset Split\")\n",
    "print(\"Training samples:\", len(X_train))\n",
    "print(\"Testing samples :\", len(X_test))\n"
   ]
  },
  {
   "cell_type": "markdown",
   "id": "53122b25-e908-4244-ac1b-bd21a765aab3",
   "metadata": {},
   "source": [
    "Step 4 : Tokenization and padding"
   ]
  },
  {
   "cell_type": "code",
   "execution_count": 7,
   "id": "a02ad4e8-347f-4f4b-9908-a3f06aeae555",
   "metadata": {},
   "outputs": [
    {
     "name": "stdout",
     "output_type": "stream",
     "text": [
      "\n",
      "Step 4: Tokenization and Padding Done\n",
      "Example padded sequence:\n",
      " [2787   67 1939 1642    1 7510    1  847  224   26    2   86  395  291\n",
      "  267    9  216   21 3248    2  446  121  545    6 1011  291   10  968\n",
      "   20   74   42  258 2296  577    2  108 5178  450  232   30  361    9\n",
      "    3 5348  215 1233    7    1    6  108    1   14    7  609   51   18\n",
      " 7762   26    2  446  831    4 3285    9  291   92    4    5 1213    4\n",
      "  126 1759 9491    1    3    2  446  412  219  545   50  397   65    2\n",
      "  831    4 3285  695  115  504 7510    1   14   51   42 2953   58    4\n",
      " 4345   36   84   25 3229   26    2  285  436    6    2  121  545    5\n",
      " 1447 1339    7  307    5 5717   31 1736    1 5717   11   57    2 1233\n",
      "    8   29 1060    7  291   51   14  979  115    4  780    7  291    6\n",
      "  916 8620    8   12   25 4298 7510    1   85    5 5178 1243   96  268\n",
      "  440  461 7405    3    1   38 2937 3412    4  215 1233   52 2911 2386\n",
      "  102   98 2250 8684    4    2 3285 6198    1    1    6    2  574    1\n",
      "    1   30   14    8 1823    5  349  118   47   37   24    3 1073   19\n",
      "    3  233   32  114   25  338 6771    3  398    2 9560    2 9371   28\n",
      "    2  121  545    9  291   12    1    6   28  263    1   13   85    2\n",
      "  412  219  545 1074    2  545 7510    1   85  291   10  968    8   51\n",
      "   42   45  177    3 1044 1292    2 2847    8 1875   10   74   42  258\n",
      " 2296  577  119   31  283    9    2  914    4 2066    1    7  600   15\n",
      "   18  217    1  968   51   14   34   14    8    7  166 1002    6  673\n",
      "    9    2 3352   36  295   42    2  505   74   18 1102  347   36   24\n",
      "    2 1536   53   31  226  831   10 3285   76  100   36  965   11  274\n",
      "   36  965  274   11  129  998    0    0    0    0    0    0    0    0\n",
      "    0    0    0    0    0    0    0    0    0    0    0    0    0    0\n",
      "    0    0    0    0    0    0    0    0    0    0    0    0    0    0\n",
      "    0    0    0    0    0    0    0    0    0    0    0    0    0    0\n",
      "    0    0    0    0    0    0    0    0    0    0    0    0    0    0\n",
      "    0    0    0    0    0    0    0    0    0    0    0    0    0    0\n",
      "    0    0    0    0    0    0    0    0    0    0    0    0    0    0\n",
      "    0    0    0    0    0    0    0    0    0    0    0    0    0    0\n",
      "    0    0    0    0    0    0    0    0    0    0    0    0    0    0\n",
      "    0    0    0    0    0    0    0    0    0    0    0    0    0    0\n",
      "    0    0    0    0    0    0    0    0    0    0    0    0    0    0\n",
      "    0    0    0    0    0    0    0    0    0    0    0    0    0    0\n",
      "    0    0    0    0    0    0    0    0    0    0    0    0    0    0\n",
      "    0    0    0    0    0    0    0    0    0    0]\n"
     ]
    }
   ],
   "source": [
    "from tensorflow.keras.preprocessing.text import Tokenizer\n",
    "from tensorflow.keras.preprocessing.sequence import pad_sequences\n",
    "tokenizer = Tokenizer(num_words=10000, oov_token=\"<OOV>\")\n",
    "tokenizer.fit_on_texts(X_train)\n",
    "\n",
    "X_train_seq = tokenizer.texts_to_sequences(X_train)\n",
    "X_test_seq = tokenizer.texts_to_sequences(X_test)\n",
    "max_len = 500\n",
    "X_train_pad = pad_sequences(X_train_seq, maxlen=max_len, padding='post', truncating='post')\n",
    "X_test_pad = pad_sequences(X_test_seq, maxlen=max_len, padding='post', truncating='post')\n",
    "\n",
    "print(\"\\nStep 4: Tokenization and Padding Done\")\n",
    "print(\"Example padded sequence:\\n\", X_train_pad[0])\n"
   ]
  },
  {
   "cell_type": "markdown",
   "id": "90e56969-4460-4c9b-8851-83a653d685d2",
   "metadata": {},
   "source": [
    "Step 5 : Build the model"
   ]
  },
  {
   "cell_type": "code",
   "execution_count": 12,
   "id": "4730648a-1dc5-4f51-a1ad-240ed2dd7c8d",
   "metadata": {},
   "outputs": [
    {
     "name": "stdout",
     "output_type": "stream",
     "text": [
      "\n",
      "Model Built and Compiled\n"
     ]
    },
    {
     "data": {
      "text/html": [
       "<pre style=\"white-space:pre;overflow-x:auto;line-height:normal;font-family:Menlo,'DejaVu Sans Mono',consolas,'Courier New',monospace\"><span style=\"font-weight: bold\">Model: \"sequential_4\"</span>\n",
       "</pre>\n"
      ],
      "text/plain": [
       "\u001b[1mModel: \"sequential_4\"\u001b[0m\n"
      ]
     },
     "metadata": {},
     "output_type": "display_data"
    },
    {
     "data": {
      "text/html": [
       "<pre style=\"white-space:pre;overflow-x:auto;line-height:normal;font-family:Menlo,'DejaVu Sans Mono',consolas,'Courier New',monospace\">┏━━━━━━━━━━━━━━━━━━━━━━━━━━━━━━━━━┳━━━━━━━━━━━━━━━━━━━━━━━━┳━━━━━━━━━━━━━━━┓\n",
       "┃<span style=\"font-weight: bold\"> Layer (type)                    </span>┃<span style=\"font-weight: bold\"> Output Shape           </span>┃<span style=\"font-weight: bold\">       Param # </span>┃\n",
       "┡━━━━━━━━━━━━━━━━━━━━━━━━━━━━━━━━━╇━━━━━━━━━━━━━━━━━━━━━━━━╇━━━━━━━━━━━━━━━┩\n",
       "│ embedding_4 (<span style=\"color: #0087ff; text-decoration-color: #0087ff\">Embedding</span>)         │ (<span style=\"color: #00d7ff; text-decoration-color: #00d7ff\">None</span>, <span style=\"color: #00af00; text-decoration-color: #00af00\">500</span>, <span style=\"color: #00af00; text-decoration-color: #00af00\">64</span>)        │       <span style=\"color: #00af00; text-decoration-color: #00af00\">640,000</span> │\n",
       "├─────────────────────────────────┼────────────────────────┼───────────────┤\n",
       "│ lstm_4 (<span style=\"color: #0087ff; text-decoration-color: #0087ff\">LSTM</span>)                   │ (<span style=\"color: #00d7ff; text-decoration-color: #00d7ff\">None</span>, <span style=\"color: #00af00; text-decoration-color: #00af00\">64</span>)             │        <span style=\"color: #00af00; text-decoration-color: #00af00\">33,024</span> │\n",
       "├─────────────────────────────────┼────────────────────────┼───────────────┤\n",
       "│ dropout_4 (<span style=\"color: #0087ff; text-decoration-color: #0087ff\">Dropout</span>)             │ (<span style=\"color: #00d7ff; text-decoration-color: #00d7ff\">None</span>, <span style=\"color: #00af00; text-decoration-color: #00af00\">64</span>)             │             <span style=\"color: #00af00; text-decoration-color: #00af00\">0</span> │\n",
       "├─────────────────────────────────┼────────────────────────┼───────────────┤\n",
       "│ dense_8 (<span style=\"color: #0087ff; text-decoration-color: #0087ff\">Dense</span>)                 │ (<span style=\"color: #00d7ff; text-decoration-color: #00d7ff\">None</span>, <span style=\"color: #00af00; text-decoration-color: #00af00\">32</span>)             │         <span style=\"color: #00af00; text-decoration-color: #00af00\">2,080</span> │\n",
       "├─────────────────────────────────┼────────────────────────┼───────────────┤\n",
       "│ dense_9 (<span style=\"color: #0087ff; text-decoration-color: #0087ff\">Dense</span>)                 │ (<span style=\"color: #00d7ff; text-decoration-color: #00d7ff\">None</span>, <span style=\"color: #00af00; text-decoration-color: #00af00\">1</span>)              │            <span style=\"color: #00af00; text-decoration-color: #00af00\">33</span> │\n",
       "└─────────────────────────────────┴────────────────────────┴───────────────┘\n",
       "</pre>\n"
      ],
      "text/plain": [
       "┏━━━━━━━━━━━━━━━━━━━━━━━━━━━━━━━━━┳━━━━━━━━━━━━━━━━━━━━━━━━┳━━━━━━━━━━━━━━━┓\n",
       "┃\u001b[1m \u001b[0m\u001b[1mLayer (type)                   \u001b[0m\u001b[1m \u001b[0m┃\u001b[1m \u001b[0m\u001b[1mOutput Shape          \u001b[0m\u001b[1m \u001b[0m┃\u001b[1m \u001b[0m\u001b[1m      Param #\u001b[0m\u001b[1m \u001b[0m┃\n",
       "┡━━━━━━━━━━━━━━━━━━━━━━━━━━━━━━━━━╇━━━━━━━━━━━━━━━━━━━━━━━━╇━━━━━━━━━━━━━━━┩\n",
       "│ embedding_4 (\u001b[38;5;33mEmbedding\u001b[0m)         │ (\u001b[38;5;45mNone\u001b[0m, \u001b[38;5;34m500\u001b[0m, \u001b[38;5;34m64\u001b[0m)        │       \u001b[38;5;34m640,000\u001b[0m │\n",
       "├─────────────────────────────────┼────────────────────────┼───────────────┤\n",
       "│ lstm_4 (\u001b[38;5;33mLSTM\u001b[0m)                   │ (\u001b[38;5;45mNone\u001b[0m, \u001b[38;5;34m64\u001b[0m)             │        \u001b[38;5;34m33,024\u001b[0m │\n",
       "├─────────────────────────────────┼────────────────────────┼───────────────┤\n",
       "│ dropout_4 (\u001b[38;5;33mDropout\u001b[0m)             │ (\u001b[38;5;45mNone\u001b[0m, \u001b[38;5;34m64\u001b[0m)             │             \u001b[38;5;34m0\u001b[0m │\n",
       "├─────────────────────────────────┼────────────────────────┼───────────────┤\n",
       "│ dense_8 (\u001b[38;5;33mDense\u001b[0m)                 │ (\u001b[38;5;45mNone\u001b[0m, \u001b[38;5;34m32\u001b[0m)             │         \u001b[38;5;34m2,080\u001b[0m │\n",
       "├─────────────────────────────────┼────────────────────────┼───────────────┤\n",
       "│ dense_9 (\u001b[38;5;33mDense\u001b[0m)                 │ (\u001b[38;5;45mNone\u001b[0m, \u001b[38;5;34m1\u001b[0m)              │            \u001b[38;5;34m33\u001b[0m │\n",
       "└─────────────────────────────────┴────────────────────────┴───────────────┘\n"
      ]
     },
     "metadata": {},
     "output_type": "display_data"
    },
    {
     "data": {
      "text/html": [
       "<pre style=\"white-space:pre;overflow-x:auto;line-height:normal;font-family:Menlo,'DejaVu Sans Mono',consolas,'Courier New',monospace\"><span style=\"font-weight: bold\"> Total params: </span><span style=\"color: #00af00; text-decoration-color: #00af00\">675,137</span> (2.58 MB)\n",
       "</pre>\n"
      ],
      "text/plain": [
       "\u001b[1m Total params: \u001b[0m\u001b[38;5;34m675,137\u001b[0m (2.58 MB)\n"
      ]
     },
     "metadata": {},
     "output_type": "display_data"
    },
    {
     "data": {
      "text/html": [
       "<pre style=\"white-space:pre;overflow-x:auto;line-height:normal;font-family:Menlo,'DejaVu Sans Mono',consolas,'Courier New',monospace\"><span style=\"font-weight: bold\"> Trainable params: </span><span style=\"color: #00af00; text-decoration-color: #00af00\">675,137</span> (2.58 MB)\n",
       "</pre>\n"
      ],
      "text/plain": [
       "\u001b[1m Trainable params: \u001b[0m\u001b[38;5;34m675,137\u001b[0m (2.58 MB)\n"
      ]
     },
     "metadata": {},
     "output_type": "display_data"
    },
    {
     "data": {
      "text/html": [
       "<pre style=\"white-space:pre;overflow-x:auto;line-height:normal;font-family:Menlo,'DejaVu Sans Mono',consolas,'Courier New',monospace\"><span style=\"font-weight: bold\"> Non-trainable params: </span><span style=\"color: #00af00; text-decoration-color: #00af00\">0</span> (0.00 B)\n",
       "</pre>\n"
      ],
      "text/plain": [
       "\u001b[1m Non-trainable params: \u001b[0m\u001b[38;5;34m0\u001b[0m (0.00 B)\n"
      ]
     },
     "metadata": {},
     "output_type": "display_data"
    }
   ],
   "source": [
    "import tensorflow as tf\n",
    "from tensorflow.keras.models import Sequential\n",
    "from tensorflow.keras.layers import Embedding, LSTM, Dense, Dropout\n",
    "model = Sequential([\n",
    "    Embedding(input_dim=10000, output_dim=64),  \n",
    "    LSTM(64, return_sequences=False),\n",
    "    Dropout(0.3),\n",
    "    Dense(32, activation='relu'),\n",
    "    Dense(1, activation='sigmoid')\n",
    "])\n",
    "\n",
    "model.compile(loss='binary_crossentropy', optimizer='adam', metrics=['accuracy'])\n",
    "model.build(input_shape=(None, max_len))\n",
    "print(\"\\nModel Built and Compiled\")\n",
    "model.summary()\n"
   ]
  },
  {
   "cell_type": "markdown",
   "id": "4d497938-058e-4099-a56f-562d4366eb4e",
   "metadata": {},
   "source": [
    "Step 6 : Train the model and visualise metrics"
   ]
  },
  {
   "cell_type": "code",
   "execution_count": 14,
   "id": "3a5d00ba-2e01-4ac8-90e5-d19f06fad45a",
   "metadata": {},
   "outputs": [
    {
     "name": "stdout",
     "output_type": "stream",
     "text": [
      "Epoch 1/5\n",
      "\u001b[1m281/281\u001b[0m \u001b[32m━━━━━━━━━━━━━━━━━━━━\u001b[0m\u001b[37m\u001b[0m \u001b[1m148s\u001b[0m 527ms/step - accuracy: 0.9336 - loss: 0.2295 - val_accuracy: 0.6640 - val_loss: 0.5037\n",
      "Epoch 2/5\n",
      "\u001b[1m281/281\u001b[0m \u001b[32m━━━━━━━━━━━━━━━━━━━━\u001b[0m\u001b[37m\u001b[0m \u001b[1m146s\u001b[0m 518ms/step - accuracy: 0.6743 - loss: 0.5082 - val_accuracy: 0.5925 - val_loss: 0.5847\n",
      "Epoch 3/5\n",
      "\u001b[1m281/281\u001b[0m \u001b[32m━━━━━━━━━━━━━━━━━━━━\u001b[0m\u001b[37m\u001b[0m \u001b[1m195s\u001b[0m 494ms/step - accuracy: 0.6359 - loss: 0.5510 - val_accuracy: 0.9276 - val_loss: 0.3356\n",
      "Epoch 4/5\n",
      "\u001b[1m281/281\u001b[0m \u001b[32m━━━━━━━━━━━━━━━━━━━━\u001b[0m\u001b[37m\u001b[0m \u001b[1m145s\u001b[0m 503ms/step - accuracy: 0.8832 - loss: 0.3148 - val_accuracy: 0.9526 - val_loss: 0.1402\n",
      "Epoch 5/5\n",
      "\u001b[1m281/281\u001b[0m \u001b[32m━━━━━━━━━━━━━━━━━━━━\u001b[0m\u001b[37m\u001b[0m \u001b[1m140s\u001b[0m 499ms/step - accuracy: 0.9578 - loss: 0.1417 - val_accuracy: 0.9795 - val_loss: 0.0767\n"
     ]
    },
    {
     "data": {
      "image/png": "[encoded data removed]",
      "text/plain": [
       "<Figure size 1000x400 with 2 Axes>"
      ]
     },
     "metadata": {},
     "output_type": "display_data"
    },
    {
     "name": "stdout",
     "output_type": "stream",
     "text": [
      "\n",
      "Model Training Completed and Metrics Visualized\n"
     ]
    }
   ],
   "source": [
    "import matplotlib.pyplot as plt\n",
    "\n",
    "history = model.fit(X_train_pad, y_train, validation_data=(X_test_pad, y_test),\n",
    "                    epochs=5, batch_size=128)\n",
    "\n",
    "plt.figure(figsize=(10, 4))\n",
    "plt.subplot(1, 2, 1)\n",
    "plt.plot(history.history['accuracy'], label=\"Train Accuracy\")\n",
    "plt.plot(history.history['val_accuracy'], label=\"Val Accuracy\")\n",
    "plt.legend()\n",
    "plt.title(\"Accuracy\")\n",
    "\n",
    "plt.subplot(1, 2, 2)\n",
    "plt.plot(history.history['loss'], label=\"Train Loss\")\n",
    "plt.plot(history.history['val_loss'], label=\"Val Loss\")\n",
    "plt.legend()\n",
    "plt.title(\"Loss\")\n",
    "plt.show()\n",
    "\n",
    "print(\"\\nModel Training Completed and Metrics Visualized\")\n"
   ]
  },
  {
   "cell_type": "markdown",
   "id": "cb4dd575-e9c3-4388-8abd-26ee41fca711",
   "metadata": {},
   "source": [
    "Step 7 : Evaluate and interpret prediction"
   ]
  },
  {
   "cell_type": "code",
   "execution_count": 16,
   "id": "54a957f6-09d0-434c-ad86-0df0b96b16f5",
   "metadata": {},
   "outputs": [
    {
     "name": "stdout",
     "output_type": "stream",
     "text": [
      "\u001b[1m281/281\u001b[0m \u001b[32m━━━━━━━━━━━━━━━━━━━━\u001b[0m\u001b[37m\u001b[0m \u001b[1m19s\u001b[0m 66ms/step - accuracy: 0.9801 - loss: 0.0777\n",
      "\n",
      "Step 7: Model Evaluation\n",
      "Test Accuracy: 0.9795\n",
      "Test Loss: 0.0767\n",
      "\u001b[1m1/1\u001b[0m \u001b[32m━━━━━━━━━━━━━━━━━━━━\u001b[0m\u001b[37m\u001b[0m \u001b[1m0s\u001b[0m 129ms/step\n",
      "\n",
      "Sample Predictions:\n",
      "\n",
      "Text: washington reuters us state department investigators last year issued a subpoena to the bill hillary...\n",
      "Actual Label   : 1\n",
      "Predicted Label: 1\n",
      "\n",
      "Text: ankara reuters the breakup of either iraq or syria could lead to global conflict turkey s defense mi...\n",
      "Actual Label   : 1\n",
      "Predicted Label: 1\n",
      "\n",
      "Text: outspoken british actress and columnist asks brilliant question any mosques lit up in the colors of ...\n",
      "Actual Label   : 0\n",
      "Predicted Label: 0\n",
      "\n",
      "Text: toronto reuters the name trump will be removed from a highrise hotel and condo development in downto...\n",
      "Actual Label   : 1\n",
      "Predicted Label: 1\n",
      "\n",
      "Text: abuja reuters the united states has formally agreed to sell super tucano a planes and weapons to nig...\n",
      "Actual Label   : 1\n",
      "Predicted Label: 1\n"
     ]
    }
   ],
   "source": [
    "loss, accuracy = model.evaluate(X_test_pad, y_test)\n",
    "print(f\"\\nStep 7: Model Evaluation\\nTest Accuracy: {accuracy:.4f}\\nTest Loss: {loss:.4f}\")\n",
    "predictions = model.predict(X_test_pad[:5])\n",
    "predicted_labels = (predictions > 0.5).astype(int).flatten()\n",
    "\n",
    "print(\"\\nSample Predictions:\")\n",
    "for i in range(5):\n",
    "    print(f\"\\nText: {X_test[i][:100]}...\")\n",
    "    print(f\"Actual Label   : {y_test[i]}\")\n",
    "    print(f\"Predicted Label: {predicted_labels[i]}\")\n"
   ]
  },
  {
   "cell_type": "code",
   "execution_count": null,
   "id": "bbf2dbeb-5410-4dcb-8176-4c4dbe867206",
   "metadata": {},
   "outputs": [],
   "source": []
  }
 ],
 "metadata": {
  "kernelspec": {
   "display_name": "Python 3 (ipykernel)",
   "language": "python",
   "name": "python3"
  },
  "language_info": {
   "codemirror_mode": {
    "name": "ipython",
    "version": 3
   },
   "file_extension": ".py",
   "mimetype": "text/x-python",
   "name": "python",
   "nbconvert_exporter": "python",
   "pygments_lexer": "ipython3",
   "version": "3.12.7"
  }
 },
 "nbformat": 4,
 "nbformat_minor": 5
}
