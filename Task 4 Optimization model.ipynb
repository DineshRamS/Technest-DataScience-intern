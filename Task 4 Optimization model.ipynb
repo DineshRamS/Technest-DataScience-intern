{
 "cells": [
  {
   "cell_type": "markdown",
   "id": "d1f86b27-cd1a-4eb8-9998-32a4a996e4b2",
   "metadata": {},
   "source": [
    "### Step 1 : Install and import libraries"
   ]
  },
  {
   "cell_type": "code",
   "execution_count": 1,
   "id": "85633ef7-2f66-46a7-8132-67cf1efa07a8",
   "metadata": {},
   "outputs": [
    {
     "name": "stdout",
     "output_type": "stream",
     "text": [
      "Collecting pulp\n",
      "  Downloading pulp-3.2.1-py3-none-any.whl.metadata (6.9 kB)\n",
      "Downloading pulp-3.2.1-py3-none-any.whl (16.4 MB)\n",
      "   ---------------------------------------- 0.0/16.4 MB ? eta -:--:--\n",
      "   ---------------------------------------- 0.0/16.4 MB ? eta -:--:--\n",
      "    --------------------------------------- 0.3/16.4 MB ? eta -:--:--\n",
      "   --- ------------------------------------ 1.3/16.4 MB 2.6 MB/s eta 0:00:06\n",
      "   ------- -------------------------------- 3.1/16.4 MB 4.7 MB/s eta 0:00:03\n",
      "   -------------- ------------------------- 5.8/16.4 MB 6.6 MB/s eta 0:00:02\n",
      "   -------------------- ------------------- 8.4/16.4 MB 7.8 MB/s eta 0:00:02\n",
      "   ----------------------------- ---------- 12.1/16.4 MB 9.6 MB/s eta 0:00:01\n",
      "   ----------------------------------- ---- 14.7/16.4 MB 10.1 MB/s eta 0:00:01\n",
      "   ---------------------------------------  16.3/16.4 MB 10.0 MB/s eta 0:00:01\n",
      "   ---------------------------------------- 16.4/16.4 MB 9.4 MB/s eta 0:00:00\n",
      "Installing collected packages: pulp\n",
      "Successfully installed pulp-3.2.1\n"
     ]
    }
   ],
   "source": [
    "!pip install pulp\n",
    "from pulp import LpMaximize, LpProblem, LpVariable, lpSum, value"
   ]
  },
  {
   "cell_type": "markdown",
   "id": "45a97197-8660-4e55-90a9-b5c9a4143804",
   "metadata": {},
   "source": [
    "### Step 2 : Define the optimization model"
   ]
  },
  {
   "cell_type": "code",
   "execution_count": 3,
   "id": "f8994308-f50d-454f-a0de-bd1b69bf26a2",
   "metadata": {
    "scrolled": true
   },
   "outputs": [
    {
     "name": "stdout",
     "output_type": "stream",
     "text": [
      "Profit_Maximization_Model:\n",
      "MAXIMIZE\n",
      "None\n",
      "VARIABLES\n",
      "\n"
     ]
    }
   ],
   "source": [
    "model = LpProblem(\"Profit_Maximization_Model\", LpMaximize)\n",
    "print(model)"
   ]
  },
  {
   "cell_type": "markdown",
   "id": "404073c9-4487-4cbe-a502-8e24b8c3c4a4",
   "metadata": {},
   "source": [
    "### Step 3 : Declare decision variables"
   ]
  },
  {
   "cell_type": "code",
   "execution_count": 4,
   "id": "90b4c225-c10d-4a57-ac41-6f7f0e2c7345",
   "metadata": {},
   "outputs": [
    {
     "name": "stdout",
     "output_type": "stream",
     "text": [
      "x1: Product_A\n",
      "x2: Product_B\n"
     ]
    }
   ],
   "source": [
    "x1 = LpVariable(\"Product_A\", lowBound=0, cat='Continuous')\n",
    "x2 = LpVariable(\"Product_B\", lowBound=0, cat='Continuous')\n",
    "\n",
    "print(f\"x1: {x1}\")\n",
    "print(f\"x2: {x2}\")\n"
   ]
  },
  {
   "cell_type": "markdown",
   "id": "0ad30b22-36e4-4d5f-8203-2893df057014",
   "metadata": {},
   "source": [
    "### Step 4 : Define the objective function"
   ]
  },
  {
   "cell_type": "code",
   "execution_count": 5,
   "id": "6dbcd21f-9670-4088-8471-aa1c5d90dd00",
   "metadata": {},
   "outputs": [
    {
     "name": "stdout",
     "output_type": "stream",
     "text": [
      "Profit_Maximization_Model:\n",
      "MAXIMIZE\n",
      "40*Product_A + 30*Product_B + 0\n",
      "VARIABLES\n",
      "Product_A Continuous\n",
      "Product_B Continuous\n",
      "\n"
     ]
    }
   ],
   "source": [
    "model += 40 * x1 + 30 * x2, \"Total_Profit\"\n",
    "print(model)\n"
   ]
  },
  {
   "cell_type": "markdown",
   "id": "f7667b15-77b9-4ece-b009-f8296c99aad8",
   "metadata": {},
   "source": [
    "### Step 5 : Add constraints"
   ]
  },
  {
   "cell_type": "code",
   "execution_count": 6,
   "id": "61fa52c3-1a21-4880-a773-476d6df885de",
   "metadata": {},
   "outputs": [
    {
     "name": "stdout",
     "output_type": "stream",
     "text": [
      "Profit_Maximization_Model:\n",
      "MAXIMIZE\n",
      "40*Product_A + 30*Product_B + 0\n",
      "SUBJECT TO\n",
      "Machine_Hours: 2 Product_A + Product_B <= 100\n",
      "\n",
      "Labor_Hours: 3 Product_A + 2 Product_B <= 150\n",
      "\n",
      "VARIABLES\n",
      "Product_A Continuous\n",
      "Product_B Continuous\n",
      "\n"
     ]
    }
   ],
   "source": [
    "model += 2 * x1 + 1 * x2 <= 100, \"Machine_Hours\"\n",
    "model += 3 * x1 + 2 * x2 <= 150, \"Labor_Hours\"\n",
    "\n",
    "print(model)\n"
   ]
  },
  {
   "cell_type": "markdown",
   "id": "c2af0f8b-4c85-442c-a1dc-40b88adb3254",
   "metadata": {},
   "source": [
    "### Step 6 : Solve the model\n",
    "\n",
    "- I solve the linear programming problem and check if the optimal solution is found."
   ]
  },
  {
   "cell_type": "code",
   "execution_count": 8,
   "id": "7c61d8f1-ed65-4110-9673-1fd9ccf6504b",
   "metadata": {},
   "outputs": [
    {
     "name": "stdout",
     "output_type": "stream",
     "text": [
      "Status: Optimal\n"
     ]
    }
   ],
   "source": [
    "from pulp import LpStatus\n",
    "model.solve()\n",
    "print(f\"Status: {LpStatus[model.status]}\")\n"
   ]
  },
  {
   "cell_type": "markdown",
   "id": "f0a5acfc-7911-4701-9375-95322e9c8abf",
   "metadata": {},
   "source": [
    "### Step 7 : Print the results"
   ]
  },
  {
   "cell_type": "code",
   "execution_count": 9,
   "id": "83523d87-4478-422b-a20b-ff594560108b",
   "metadata": {},
   "outputs": [
    {
     "name": "stdout",
     "output_type": "stream",
     "text": [
      "Optimal Units of Product A: 0.0\n",
      "Optimal Units of Product B: 75.0\n",
      "Maximum Profit: ₹2250.0\n"
     ]
    }
   ],
   "source": [
    "print(f\"Optimal Units of Product A: {x1.varValue}\")\n",
    "print(f\"Optimal Units of Product B: {x2.varValue}\")\n",
    "print(f\"Maximum Profit: ₹{value(model.objective)}\")\n"
   ]
  },
  {
   "cell_type": "markdown",
   "id": "0f4c3ab4-a239-4596-88d6-2fb245197d80",
   "metadata": {},
   "source": [
    "### Conclusion\n",
    "- Produce 0 units of Product A and 75 units of Product B.\n",
    "- This gives a maximum profit of ₹2250.\n",
    "- Suggest reassessing the profitability of Product A or checking if resource constraints are limiting its production.\n"
   ]
  },
  {
   "cell_type": "code",
   "execution_count": null,
   "id": "f5b2be9d-0c70-4297-933a-6faeed3ecc40",
   "metadata": {},
   "outputs": [],
   "source": []
  }
 ],
 "metadata": {
  "kernelspec": {
   "display_name": "Python 3 (ipykernel)",
   "language": "python",
   "name": "python3"
  },
  "language_info": {
   "codemirror_mode": {
    "name": "ipython",
    "version": 3
   },
   "file_extension": ".py",
   "mimetype": "text/x-python",
   "name": "python",
   "nbconvert_exporter": "python",
   "pygments_lexer": "ipython3",
   "version": "3.12.7"
  }
 },
 "nbformat": 4,
 "nbformat_minor": 5
}
