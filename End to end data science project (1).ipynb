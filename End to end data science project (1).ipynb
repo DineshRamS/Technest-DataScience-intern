{
 "cells": [
  {
   "cell_type": "markdown",
   "id": "b94f794e-b3a3-4736-b4cc-acd26a4a9ccc",
   "metadata": {},
   "source": [
    "Step 1 : Data collection and loading"
   ]
  },
  {
   "cell_type": "code",
   "execution_count": 7,
   "id": "297904ff-6bfa-41a1-9e4c-508e91859ac2",
   "metadata": {},
   "outputs": [
    {
     "name": "stdout",
     "output_type": "stream",
     "text": [
      " Dataset loaded successfully!\n",
      "   Age Sex ChestPainType  RestingBP  Cholesterol  FastingBS RestingECG  MaxHR  \\\n",
      "0   40   M           ATA        140          289          0     Normal    172   \n",
      "1   49   F           NAP        160          180          0     Normal    156   \n",
      "2   37   M           ATA        130          283          0         ST     98   \n",
      "3   48   F           ASY        138          214          0     Normal    108   \n",
      "4   54   M           NAP        150          195          0     Normal    122   \n",
      "\n",
      "  ExerciseAngina  Oldpeak ST_Slope  HeartDisease  \n",
      "0              N      0.0       Up             0  \n",
      "1              N      1.0     Flat             1  \n",
      "2              N      0.0       Up             0  \n",
      "3              Y      1.5     Flat             1  \n",
      "4              N      0.0       Up             0  \n"
     ]
    }
   ],
   "source": [
    "import pandas as pd\n",
    "df = pd.read_csv(\"C:/Users/User/Downloads/heart.csv\")\n",
    "print(\" Dataset loaded successfully!\")\n",
    "print(df.head())\n"
   ]
  },
  {
   "cell_type": "markdown",
   "id": "78b07364-19d2-4841-8cce-dbff6b2071d8",
   "metadata": {},
   "source": [
    "Step 2 : Data exploration"
   ]
  },
  {
   "cell_type": "code",
   "execution_count": 1,
   "id": "29375a7d-1224-452d-ae6f-1aca6a18f0d2",
   "metadata": {},
   "outputs": [
    {
     "name": "stdout",
     "output_type": "stream",
     "text": [
      "Using scikit-learn version: 1.5.1\n",
      "Model saved with scikit-learn version: 1.5.1\n"
     ]
    }
   ],
   "source": [
    "import pandas as pd\n",
    "from sklearn.model_selection import train_test_split\n",
    "from sklearn.tree import DecisionTreeClassifier\n",
    "from sklearn.preprocessing import LabelEncoder\n",
    "import pickle\n",
    "import sklearn\n",
    "\n",
    "print(\"Using scikit-learn version:\", sklearn.__version__)  \n",
    "\n",
    "df = pd.read_csv(\"C:/Users/User/Downloads/heart.csv\")\n",
    "categorical_cols = [\"Sex\", \"ChestPainType\", \"RestingECG\", \"ExerciseAngina\", \"ST_Slope\"]\n",
    "\n",
    "le = LabelEncoder()\n",
    "for col in categorical_cols:\n",
    "    df[col] = le.fit_transform(df[col])\n",
    "\n",
    "X = df.drop(\"HeartDisease\", axis=1)\n",
    "y = df[\"HeartDisease\"]\n",
    "X_train, X_test, y_train, y_test = train_test_split(X, y, test_size=0.2, random_state=42)\n",
    "model = DecisionTreeClassifier()\n",
    "model.fit(X_train, y_train)\n",
    "\n",
    "with open(\"heart_model.pkl\", \"wb\") as f:\n",
    "    pickle.dump(model, f)\n",
    "\n",
    "print(\"Model saved with scikit-learn version:\", sklearn.__version__)\n"
   ]
  },
  {
   "cell_type": "markdown",
   "id": "21e1341c-de94-4240-b2d8-8e2641744b08",
   "metadata": {},
   "source": [
    "Step 3 : Model training"
   ]
  },
  {
   "cell_type": "code",
   "execution_count": 27,
   "id": "5ed9e29e-50d9-42ee-aefb-cbcc6d5b8dad",
   "metadata": {},
   "outputs": [
    {
     "name": "stdout",
     "output_type": "stream",
     "text": [
      "✅ Model trained and saved as heart_model.pkl\n"
     ]
    }
   ],
   "source": [
    "from sklearn.tree import DecisionTreeClassifier\n",
    "import pickle\n",
    "model = DecisionTreeClassifier()\n",
    "model.fit(X_encoded, y)\n",
    "with open(\"heart_model.pkl\", \"wb\") as f:\n",
    "    pickle.dump(model, f)\n",
    "\n",
    "print(\"✅ Model trained and saved as heart_model.pkl\")\n"
   ]
  },
  {
   "cell_type": "markdown",
   "id": "e5d89348-9e2a-439c-824d-dccd79f82855",
   "metadata": {},
   "source": [
    "Step 4 : Model Training and Serialization with Label Encoding"
   ]
  },
  {
   "cell_type": "code",
   "execution_count": 25,
   "id": "27fbd68b-be55-4c48-901e-3554430179fb",
   "metadata": {},
   "outputs": [
    {
     "name": "stdout",
     "output_type": "stream",
     "text": [
      "Saving with version: 1.5.1\n",
      "Model saved with scikit-learn version: 1.5.1\n"
     ]
    }
   ],
   "source": [
    "import pandas as pd\n",
    "from sklearn.tree import DecisionTreeClassifier\n",
    "from sklearn.model_selection import train_test_split\n",
    "from sklearn.preprocessing import LabelEncoder\n",
    "import pickle\n",
    "import sklearn\n",
    "\n",
    "print(\"Saving with version:\", sklearn.__version__)  \n",
    "\n",
    "df = pd.read_csv(\"C:/Users/User/Downloads/heart.csv\")\n",
    "cat_cols = [\"Sex\", \"ChestPainType\", \"RestingECG\", \"ExerciseAngina\", \"ST_Slope\"]\n",
    "le = LabelEncoder()\n",
    "for col in cat_cols:\n",
    "    df[col] = le.fit_transform(df[col])\n",
    "\n",
    "X = df.drop(\"HeartDisease\", axis=1)\n",
    "y = df[\"HeartDisease\"]\n",
    "\n",
    "X_train, X_test, y_train, y_test = train_test_split(X, y, test_size=0.2)\n",
    "\n",
    "model = DecisionTreeClassifier()\n",
    "model.fit(X_train, y_train)\n",
    "\n",
    "with open(\"C:/Users/User/Documents/heart_disease_app/heart_model.pkl\", \"wb\") as f:\n",
    "    pickle.dump(model, f)\n",
    "\n",
    "print(\"Model saved with scikit-learn version:\", sklearn.__version__)\n"
   ]
  },
  {
   "cell_type": "markdown",
   "id": "4dfd8ce3-f684-4777-aaaa-20c0957d70ed",
   "metadata": {},
   "source": [
    "Step 5 : Training and Exporting the Model Using One-Hot Encoding"
   ]
  },
  {
   "cell_type": "code",
   "execution_count": 22,
   "id": "15f0e7d7-bd3e-4a6b-aa42-3e88269cbb77",
   "metadata": {},
   "outputs": [
    {
     "name": "stdout",
     "output_type": "stream",
     "text": [
      "Saved model feature columns to 'model_columns.csv'\n",
      "Model trained and saved as heart_model.pkl\n"
     ]
    }
   ],
   "source": [
    "import pandas as pd\n",
    "from sklearn.tree import DecisionTreeClassifier\n",
    "import pickle\n",
    "df = pd.read_csv(\"C:/Users/User/Downloads/heart.csv\")\n",
    "X = df.drop(\"HeartDisease\", axis=1)\n",
    "y = df[\"HeartDisease\"]\n",
    "X_encoded = pd.get_dummies(X)\n",
    "pd.Series(X_encoded.columns).to_csv(\"model_columns.csv\", index=False, header=False)\n",
    "print(\"Saved model feature columns to 'model_columns.csv'\")\n",
    "\n",
    "model = DecisionTreeClassifier()\n",
    "model.fit(X_encoded, y)\n",
    "with open(\"heart_model.pkl\", \"wb\") as f:\n",
    "    pickle.dump(model, f)\n",
    "\n",
    "print(\"Model trained and saved as heart_model.pkl\")\n"
   ]
  },
  {
   "cell_type": "code",
   "execution_count": 18,
   "id": "6b4355e9-0334-42f2-b08f-0024e0f535a2",
   "metadata": {},
   "outputs": [],
   "source": [
    "pd.Series(X_encoded.columns).to_csv(\"model_columns.csv\", index=False, header=False)\n"
   ]
  },
  {
   "cell_type": "code",
   "execution_count": 23,
   "id": "56df042a-e196-455c-b71c-e5e9e053ac0f",
   "metadata": {},
   "outputs": [
    {
     "name": "stdout",
     "output_type": "stream",
     "text": [
      "Encoded feature columns used for model training:\n",
      "\n",
      "              Age\n",
      "        RestingBP\n",
      "      Cholesterol\n",
      "        FastingBS\n",
      "            MaxHR\n",
      "          Oldpeak\n",
      "            Sex_F\n",
      "            Sex_M\n",
      "ChestPainType_ASY\n",
      "ChestPainType_ATA\n",
      "ChestPainType_NAP\n",
      " ChestPainType_TA\n",
      "   RestingECG_LVH\n",
      "RestingECG_Normal\n",
      "    RestingECG_ST\n",
      " ExerciseAngina_N\n",
      " ExerciseAngina_Y\n",
      "    ST_Slope_Down\n",
      "    ST_Slope_Flat\n",
      "      ST_Slope_Up\n",
      "\n",
      "Saved model feature columns to 'model_columns.csv'\n"
     ]
    }
   ],
   "source": [
    "encoded_columns = pd.Series(X_encoded.columns)\n",
    "print(\"Encoded feature columns used for model training:\\n\")\n",
    "print(encoded_columns.to_string(index=False))\n",
    "encoded_columns.to_csv(\"model_columns.csv\", index=False, header=False)\n",
    "print(\"\\nSaved model feature columns to 'model_columns.csv'\")\n"
   ]
  },
  {
   "cell_type": "markdown",
   "id": "a38c2656-4db4-47bb-b8a0-cdc0169bda01",
   "metadata": {},
   "source": [
    "Step 6 : Flask app (backend)"
   ]
  },
  {
   "cell_type": "code",
   "execution_count": 24,
   "id": "a2a135df-93b3-4b4a-8e20-7a46b232915b",
   "metadata": {},
   "outputs": [
    {
     "name": "stdout",
     "output_type": "stream",
     "text": [
      " * Serving Flask app '__main__'\n",
      " * Debug mode: on\n"
     ]
    },
    {
     "name": "stderr",
     "output_type": "stream",
     "text": [
      "WARNING: This is a development server. Do not use it in a production deployment. Use a production WSGI server instead.\n",
      " * Running on http://127.0.0.1:5000\n",
      "Press CTRL+C to quit\n",
      " * Restarting with watchdog (windowsapi)\n"
     ]
    },
    {
     "ename": "SystemExit",
     "evalue": "1",
     "output_type": "error",
     "traceback": [
      "An exception has occurred, use %tb to see the full traceback.\n",
      "\u001b[1;31mSystemExit\u001b[0m\u001b[1;31m:\u001b[0m 1\n"
     ]
    },
    {
     "name": "stderr",
     "output_type": "stream",
     "text": [
      "C:\\Users\\User\\.jupyter\\Aanconda\\Lib\\site-packages\\IPython\\core\\interactiveshell.py:3585: UserWarning: To exit: use 'exit', 'quit', or Ctrl-D.\n",
      "  warn(\"To exit: use 'exit', 'quit', or Ctrl-D.\", stacklevel=1)\n"
     ]
    }
   ],
   "source": [
    "from flask import Flask, render_template, request\n",
    "import pickle\n",
    "import pandas as pd\n",
    "\n",
    "app = Flask(__name__)\n",
    "\n",
    "# Load trained model\n",
    "with open(\"heart_model.pkl\", \"rb\") as f:\n",
    "    model = pickle.load(f)\n",
    "\n",
    "@app.route(\"/\")\n",
    "def home():\n",
    "    return render_template(\"index.html\")\n",
    "\n",
    "@app.route(\"/predict\", methods=[\"POST\"])\n",
    "def predict():\n",
    "    input_data = {\n",
    "        'Age': int(request.form['Age']),\n",
    "        'Sex': request.form['Sex'],\n",
    "        'ChestPainType': request.form['ChestPainType'],\n",
    "        'RestingBP': int(request.form['RestingBP']),\n",
    "        'Cholesterol': int(request.form['Cholesterol']),\n",
    "        'FastingBS': int(request.form['FastingBS']),\n",
    "        'RestingECG': request.form['RestingECG'],\n",
    "        'MaxHR': int(request.form['MaxHR']),\n",
    "        'ExerciseAngina': request.form['ExerciseAngina'],\n",
    "        'Oldpeak': float(request.form['Oldpeak']),\n",
    "        'ST_Slope': request.form['ST_Slope']\n",
    "    }\n",
    "\n",
    "    input_df = pd.DataFrame([input_data])\n",
    "    input_encoded = pd.get_dummies(input_df)\n",
    "\n",
    "    model_columns = pd.read_csv(\"model_columns.csv\", header=None).squeeze().tolist()\n",
    "    for col in model_columns:\n",
    "        if col not in input_encoded.columns:\n",
    "            input_encoded[col] = 0\n",
    "    input_encoded = input_encoded[model_columns]\n",
    "\n",
    "    prediction = model.predict(input_encoded)[0]\n",
    "    result = \"Positive for Heart Disease\" if prediction == 1 else \"Negative for Heart Disease\"\n",
    "    return render_template(\"index.html\", prediction_text=f\"Prediction: {result}\")\n",
    "\n",
    "if __name__ == \"__main__\":\n",
    "    app.run(debug=True)\n"
   ]
  },
  {
   "cell_type": "code",
   "execution_count": null,
   "id": "80c38ce7-ee17-472a-b805-fd6b83170eaa",
   "metadata": {},
   "outputs": [],
   "source": [
    " "
   ]
  }
 ],
 "metadata": {
  "kernelspec": {
   "display_name": "Python 3 (ipykernel)",
   "language": "python",
   "name": "python3"
  },
  "language_info": {
   "codemirror_mode": {
    "name": "ipython",
    "version": 3
   },
   "file_extension": ".py",
   "mimetype": "text/x-python",
   "name": "python",
   "nbconvert_exporter": "python",
   "pygments_lexer": "ipython3",
   "version": "3.12.7"
  }
 },
 "nbformat": 4,
 "nbformat_minor": 5
}
