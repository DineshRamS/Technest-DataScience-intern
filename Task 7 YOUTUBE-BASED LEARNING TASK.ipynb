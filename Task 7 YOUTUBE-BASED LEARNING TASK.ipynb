{
 "cells": [
  {
   "cell_type": "markdown",
   "id": "539f3ddb-76af-4eb5-9278-ebf94b9714e4",
   "metadata": {},
   "source": [
    "### Dataset 1 - country_wise_latest\n",
    "\n",
    "Step 1 : load and preview the dataset"
   ]
  },
  {
   "cell_type": "code",
   "execution_count": 2,
   "id": "2c455aa5-3613-4352-ac8f-6802e4c060e5",
   "metadata": {},
   "outputs": [
    {
     "name": "stdout",
     "output_type": "stream",
     "text": [
      "  Country/Region  Confirmed  Deaths  Recovered  Active  New cases  New deaths  \\\n",
      "0    Afghanistan      36263    1269      25198    9796        106          10   \n",
      "1        Albania       4880     144       2745    1991        117           6   \n",
      "2        Algeria      27973    1163      18837    7973        616           8   \n",
      "3        Andorra        907      52        803      52         10           0   \n",
      "4         Angola        950      41        242     667         18           1   \n",
      "\n",
      "   New recovered  Deaths / 100 Cases  Recovered / 100 Cases  \\\n",
      "0             18                3.50                  69.49   \n",
      "1             63                2.95                  56.25   \n",
      "2            749                4.16                  67.34   \n",
      "3              0                5.73                  88.53   \n",
      "4              0                4.32                  25.47   \n",
      "\n",
      "   Deaths / 100 Recovered  Confirmed last week  1 week change  \\\n",
      "0                    5.04                35526            737   \n",
      "1                    5.25                 4171            709   \n",
      "2                    6.17                23691           4282   \n",
      "3                    6.48                  884             23   \n",
      "4                   16.94                  749            201   \n",
      "\n",
      "   1 week % increase             WHO Region  \n",
      "0               2.07  Eastern Mediterranean  \n",
      "1              17.00                 Europe  \n",
      "2              18.07                 Africa  \n",
      "3               2.60                 Europe  \n",
      "4              26.84                 Africa  \n"
     ]
    }
   ],
   "source": [
    "import pandas as pd\n",
    "\n",
    "df1 = pd.read_csv(\"C:/Users/User/Downloads/country_wise_latest.csv\")\n",
    "print(df1.head())"
   ]
  },
  {
   "cell_type": "markdown",
   "id": "9406e1b6-d781-465a-bd15-59819c710fa8",
   "metadata": {},
   "source": [
    "Step 2 : Info and summary"
   ]
  },
  {
   "cell_type": "code",
   "execution_count": 3,
   "id": "b5b51d6a-dfcb-4487-b23d-623ea4a70993",
   "metadata": {},
   "outputs": [
    {
     "name": "stdout",
     "output_type": "stream",
     "text": [
      "<class 'pandas.core.frame.DataFrame'>\n",
      "RangeIndex: 187 entries, 0 to 186\n",
      "Data columns (total 15 columns):\n",
      " #   Column                  Non-Null Count  Dtype  \n",
      "---  ------                  --------------  -----  \n",
      " 0   Country/Region          187 non-null    object \n",
      " 1   Confirmed               187 non-null    int64  \n",
      " 2   Deaths                  187 non-null    int64  \n",
      " 3   Recovered               187 non-null    int64  \n",
      " 4   Active                  187 non-null    int64  \n",
      " 5   New cases               187 non-null    int64  \n",
      " 6   New deaths              187 non-null    int64  \n",
      " 7   New recovered           187 non-null    int64  \n",
      " 8   Deaths / 100 Cases      187 non-null    float64\n",
      " 9   Recovered / 100 Cases   187 non-null    float64\n",
      " 10  Deaths / 100 Recovered  187 non-null    float64\n",
      " 11  Confirmed last week     187 non-null    int64  \n",
      " 12  1 week change           187 non-null    int64  \n",
      " 13  1 week % increase       187 non-null    float64\n",
      " 14  WHO Region              187 non-null    object \n",
      "dtypes: float64(4), int64(9), object(2)\n",
      "memory usage: 22.0+ KB\n",
      "None\n",
      "       Country/Region     Confirmed         Deaths     Recovered  \\\n",
      "count             187  1.870000e+02     187.000000  1.870000e+02   \n",
      "unique            187           NaN            NaN           NaN   \n",
      "top       Afghanistan           NaN            NaN           NaN   \n",
      "freq                1           NaN            NaN           NaN   \n",
      "mean              NaN  8.813094e+04    3497.518717  5.063148e+04   \n",
      "std               NaN  3.833187e+05   14100.002482  1.901882e+05   \n",
      "min               NaN  1.000000e+01       0.000000  0.000000e+00   \n",
      "25%               NaN  1.114000e+03      18.500000  6.265000e+02   \n",
      "50%               NaN  5.059000e+03     108.000000  2.815000e+03   \n",
      "75%               NaN  4.046050e+04     734.000000  2.260600e+04   \n",
      "max               NaN  4.290259e+06  148011.000000  1.846641e+06   \n",
      "\n",
      "              Active     New cases   New deaths  New recovered  \\\n",
      "count   1.870000e+02    187.000000   187.000000     187.000000   \n",
      "unique           NaN           NaN          NaN            NaN   \n",
      "top              NaN           NaN          NaN            NaN   \n",
      "freq             NaN           NaN          NaN            NaN   \n",
      "mean    3.400194e+04   1222.957219    28.957219     933.812834   \n",
      "std     2.133262e+05   5710.374790   120.037173    4197.719635   \n",
      "min     0.000000e+00      0.000000     0.000000       0.000000   \n",
      "25%     1.415000e+02      4.000000     0.000000       0.000000   \n",
      "50%     1.600000e+03     49.000000     1.000000      22.000000   \n",
      "75%     9.149000e+03    419.500000     6.000000     221.000000   \n",
      "max     2.816444e+06  56336.000000  1076.000000   33728.000000   \n",
      "\n",
      "        Deaths / 100 Cases  Recovered / 100 Cases  Deaths / 100 Recovered  \\\n",
      "count           187.000000             187.000000                  187.00   \n",
      "unique                 NaN                    NaN                     NaN   \n",
      "top                    NaN                    NaN                     NaN   \n",
      "freq                   NaN                    NaN                     NaN   \n",
      "mean              3.019519              64.820535                     inf   \n",
      "std               3.454302              26.287694                     NaN   \n",
      "min               0.000000               0.000000                    0.00   \n",
      "25%               0.945000              48.770000                    1.45   \n",
      "50%               2.150000              71.320000                    3.62   \n",
      "75%               3.875000              86.885000                    6.44   \n",
      "max              28.560000             100.000000                     inf   \n",
      "\n",
      "        Confirmed last week  1 week change  1 week % increase WHO Region  \n",
      "count          1.870000e+02     187.000000         187.000000        187  \n",
      "unique                  NaN            NaN                NaN          6  \n",
      "top                     NaN            NaN                NaN     Europe  \n",
      "freq                    NaN            NaN                NaN         56  \n",
      "mean           7.868248e+04    9448.459893          13.606203        NaN  \n",
      "std            3.382737e+05   47491.127684          24.509838        NaN  \n",
      "min            1.000000e+01     -47.000000          -3.840000        NaN  \n",
      "25%            1.051500e+03      49.000000           2.775000        NaN  \n",
      "50%            5.020000e+03     432.000000           6.890000        NaN  \n",
      "75%            3.708050e+04    3172.000000          16.855000        NaN  \n",
      "max            3.834677e+06  455582.000000         226.320000        NaN  \n"
     ]
    }
   ],
   "source": [
    "print(df1.info())\n",
    "print(df1.describe(include='all'))"
   ]
  },
  {
   "cell_type": "markdown",
   "id": "032a8f07-9a8e-4b14-bf91-6e407fc235b6",
   "metadata": {},
   "source": [
    "Step 3 : Missing value check"
   ]
  },
  {
   "cell_type": "code",
   "execution_count": 4,
   "id": "117fa525-1d63-4bf8-aed0-81897d14696e",
   "metadata": {},
   "outputs": [
    {
     "name": "stdout",
     "output_type": "stream",
     "text": [
      "Missing values:\n",
      " Country/Region            0\n",
      "Confirmed                 0\n",
      "Deaths                    0\n",
      "Recovered                 0\n",
      "Active                    0\n",
      "New cases                 0\n",
      "New deaths                0\n",
      "New recovered             0\n",
      "Deaths / 100 Cases        0\n",
      "Recovered / 100 Cases     0\n",
      "Deaths / 100 Recovered    0\n",
      "Confirmed last week       0\n",
      "1 week change             0\n",
      "1 week % increase         0\n",
      "WHO Region                0\n",
      "dtype: int64\n"
     ]
    }
   ],
   "source": [
    "print(\"Missing values:\\n\", df1.isnull().sum())\n"
   ]
  },
  {
   "cell_type": "markdown",
   "id": "0812c13f-a49e-4140-b1c6-a4d915c6d105",
   "metadata": {},
   "source": [
    "Step 4 : Calculate and show mortality rate "
   ]
  },
  {
   "cell_type": "code",
   "execution_count": 5,
   "id": "772ce40b-4022-4bcb-8192-e24a1d6ec9bf",
   "metadata": {},
   "outputs": [
    {
     "name": "stdout",
     "output_type": "stream",
     "text": [
      "     Country/Region  Mortality Rate\n",
      "184           Yemen        0.285630\n",
      "177  United Kingdom        0.151948\n",
      "16          Belgium        0.147859\n",
      "85            Italy        0.142566\n",
      "61           France        0.137108\n"
     ]
    }
   ],
   "source": [
    "df1['Mortality Rate'] = df1['Deaths'] / df1['Confirmed']\n",
    "print(df1[['Country/Region', 'Mortality Rate']].sort_values(by='Mortality Rate', ascending=False).head())\n"
   ]
  },
  {
   "cell_type": "markdown",
   "id": "53874bfe-4ff5-4468-a1fd-44a96ae6dd2b",
   "metadata": {},
   "source": [
    "### Dataset 2 - worldometer_data.csv\n",
    "\n"
   ]
  },
  {
   "cell_type": "markdown",
   "id": "7671c030-fbd3-4fe7-a2ae-de668d8a07fd",
   "metadata": {},
   "source": [
    "Step 1 : Load and preview dataset"
   ]
  },
  {
   "cell_type": "code",
   "execution_count": 6,
   "id": "8150c62a-88df-4706-988e-c37ac16367ef",
   "metadata": {},
   "outputs": [
    {
     "name": "stdout",
     "output_type": "stream",
     "text": [
      "  Country/Region      Continent    Population  TotalCases  NewCases  \\\n",
      "0            USA  North America  3.311981e+08     5032179       NaN   \n",
      "1         Brazil  South America  2.127107e+08     2917562       NaN   \n",
      "2          India           Asia  1.381345e+09     2025409       NaN   \n",
      "3         Russia         Europe  1.459409e+08      871894       NaN   \n",
      "4   South Africa         Africa  5.938157e+07      538184       NaN   \n",
      "\n",
      "   TotalDeaths  NewDeaths  TotalRecovered  NewRecovered  ActiveCases  \\\n",
      "0     162804.0        NaN       2576668.0           NaN    2292707.0   \n",
      "1      98644.0        NaN       2047660.0           NaN     771258.0   \n",
      "2      41638.0        NaN       1377384.0           NaN     606387.0   \n",
      "3      14606.0        NaN        676357.0           NaN     180931.0   \n",
      "4       9604.0        NaN        387316.0           NaN     141264.0   \n",
      "\n",
      "   Serious,Critical  Tot Cases/1M pop  Deaths/1M pop  TotalTests  \\\n",
      "0           18296.0           15194.0          492.0  63139605.0   \n",
      "1            8318.0           13716.0          464.0  13206188.0   \n",
      "2            8944.0            1466.0           30.0  22149351.0   \n",
      "3            2300.0            5974.0          100.0  29716907.0   \n",
      "4             539.0            9063.0          162.0   3149807.0   \n",
      "\n",
      "   Tests/1M pop      WHO Region  \n",
      "0      190640.0        Americas  \n",
      "1       62085.0        Americas  \n",
      "2       16035.0  South-EastAsia  \n",
      "3      203623.0          Europe  \n",
      "4       53044.0          Africa  \n"
     ]
    }
   ],
   "source": [
    "df2 = pd.read_csv(\"C:/Users/User/Downloads/worldometer_data.csv\")\n",
    "print(df2.head())\n"
   ]
  },
  {
   "cell_type": "markdown",
   "id": "0ab826dd-1538-4939-832e-623926d6ebaf",
   "metadata": {},
   "source": [
    "Step 2 : Info and summary"
   ]
  },
  {
   "cell_type": "code",
   "execution_count": 7,
   "id": "70455239-96c0-4e82-8031-bfe5a9d44d55",
   "metadata": {},
   "outputs": [
    {
     "name": "stdout",
     "output_type": "stream",
     "text": [
      "<class 'pandas.core.frame.DataFrame'>\n",
      "RangeIndex: 209 entries, 0 to 208\n",
      "Data columns (total 16 columns):\n",
      " #   Column            Non-Null Count  Dtype  \n",
      "---  ------            --------------  -----  \n",
      " 0   Country/Region    209 non-null    object \n",
      " 1   Continent         208 non-null    object \n",
      " 2   Population        208 non-null    float64\n",
      " 3   TotalCases        209 non-null    int64  \n",
      " 4   NewCases          4 non-null      float64\n",
      " 5   TotalDeaths       188 non-null    float64\n",
      " 6   NewDeaths         3 non-null      float64\n",
      " 7   TotalRecovered    205 non-null    float64\n",
      " 8   NewRecovered      3 non-null      float64\n",
      " 9   ActiveCases       205 non-null    float64\n",
      " 10  Serious,Critical  122 non-null    float64\n",
      " 11  Tot Cases/1M pop  208 non-null    float64\n",
      " 12  Deaths/1M pop     187 non-null    float64\n",
      " 13  TotalTests        191 non-null    float64\n",
      " 14  Tests/1M pop      191 non-null    float64\n",
      " 15  WHO Region        184 non-null    object \n",
      "dtypes: float64(12), int64(1), object(3)\n",
      "memory usage: 26.3+ KB\n",
      "None\n",
      "       Country/Region Continent    Population    TotalCases     NewCases  \\\n",
      "count             209       208  2.080000e+02  2.090000e+02     4.000000   \n",
      "unique            209         6           NaN           NaN          NaN   \n",
      "top               USA    Africa           NaN           NaN          NaN   \n",
      "freq                1        57           NaN           NaN          NaN   \n",
      "mean              NaN       NaN  3.041549e+07  9.171850e+04  1980.500000   \n",
      "std               NaN       NaN  1.047661e+08  4.325867e+05  3129.611424   \n",
      "min               NaN       NaN  8.010000e+02  1.000000e+01    20.000000   \n",
      "25%               NaN       NaN  9.663140e+05  7.120000e+02    27.500000   \n",
      "50%               NaN       NaN  7.041972e+06  4.491000e+03   656.000000   \n",
      "75%               NaN       NaN  2.575614e+07  3.689600e+04  2609.000000   \n",
      "max               NaN       NaN  1.381345e+09  5.032179e+06  6590.000000   \n",
      "\n",
      "          TotalDeaths   NewDeaths  TotalRecovered  NewRecovered   ActiveCases  \\\n",
      "count      188.000000    3.000000    2.050000e+02      3.000000  2.050000e+02   \n",
      "unique            NaN         NaN             NaN           NaN           NaN   \n",
      "top               NaN         NaN             NaN           NaN           NaN   \n",
      "freq              NaN         NaN             NaN           NaN           NaN   \n",
      "mean      3792.590426  300.000000    5.887898e+04   1706.000000  2.766433e+04   \n",
      "std      15487.184877  451.199512    2.566984e+05   2154.779803  1.746327e+05   \n",
      "min          1.000000    1.000000    7.000000e+00     42.000000  0.000000e+00   \n",
      "25%         22.000000   40.500000    3.340000e+02    489.000000  8.600000e+01   \n",
      "50%        113.000000   80.000000    2.178000e+03    936.000000  8.990000e+02   \n",
      "75%        786.000000  449.500000    2.055300e+04   2538.000000  7.124000e+03   \n",
      "max     162804.000000  819.000000    2.576668e+06   4140.000000  2.292707e+06   \n",
      "\n",
      "        Serious,Critical  Tot Cases/1M pop  Deaths/1M pop    TotalTests  \\\n",
      "count         122.000000        208.000000     187.000000  1.910000e+02   \n",
      "unique               NaN               NaN            NaN           NaN   \n",
      "top                  NaN               NaN            NaN           NaN   \n",
      "freq                 NaN               NaN            NaN           NaN   \n",
      "mean          534.393443       3196.024038      98.681176  1.402405e+06   \n",
      "std          2047.518613       5191.986457     174.956862  5.553367e+06   \n",
      "min             1.000000          3.000000       0.080000  6.100000e+01   \n",
      "25%             3.250000        282.000000       6.000000  2.575200e+04   \n",
      "50%            27.500000       1015.000000      29.000000  1.357020e+05   \n",
      "75%           160.250000       3841.750000      98.000000  7.576960e+05   \n",
      "max         18296.000000      39922.000000    1238.000000  6.313960e+07   \n",
      "\n",
      "         Tests/1M pop WHO Region  \n",
      "count      191.000000        184  \n",
      "unique            NaN          6  \n",
      "top               NaN     Europe  \n",
      "freq              NaN         55  \n",
      "mean     83959.366492        NaN  \n",
      "std     152730.591240        NaN  \n",
      "min          4.000000        NaN  \n",
      "25%       8956.500000        NaN  \n",
      "50%      32585.000000        NaN  \n",
      "75%      92154.500000        NaN  \n",
      "max     995282.000000        NaN  \n"
     ]
    }
   ],
   "source": [
    "print(df2.info())\n",
    "print(df2.describe(include='all'))\n"
   ]
  },
  {
   "cell_type": "markdown",
   "id": "3b3e8e9a-14b9-4884-a1b8-214c460dd034",
   "metadata": {},
   "source": [
    "Step 3 : Missing value check"
   ]
  },
  {
   "cell_type": "code",
   "execution_count": 8,
   "id": "b9d274c3-4555-4c3c-ac81-666d425c3cb7",
   "metadata": {},
   "outputs": [
    {
     "name": "stdout",
     "output_type": "stream",
     "text": [
      "Missing values:\n",
      " Country/Region        0\n",
      "Continent             1\n",
      "Population            1\n",
      "TotalCases            0\n",
      "NewCases            205\n",
      "TotalDeaths          21\n",
      "NewDeaths           206\n",
      "TotalRecovered        4\n",
      "NewRecovered        206\n",
      "ActiveCases           4\n",
      "Serious,Critical     87\n",
      "Tot Cases/1M pop      1\n",
      "Deaths/1M pop        22\n",
      "TotalTests           18\n",
      "Tests/1M pop         18\n",
      "WHO Region           25\n",
      "dtype: int64\n"
     ]
    }
   ],
   "source": [
    "print(\"Missing values:\\n\", df2.isnull().sum())"
   ]
  },
  {
   "cell_type": "markdown",
   "id": "ca0e3f44-4bd3-4e0a-aaf0-9cc45fe8123c",
   "metadata": {},
   "source": [
    "Step 4 : Highest test per million"
   ]
  },
  {
   "cell_type": "code",
   "execution_count": 10,
   "id": "79637499-50d4-45d1-8b0f-c08aac87f6f0",
   "metadata": {},
   "outputs": [
    {
     "data": {
      "text/html": [
       "<div>\n",
       "<style scoped>\n",
       "    .dataframe tbody tr th:only-of-type {\n",
       "        vertical-align: middle;\n",
       "    }\n",
       "\n",
       "    .dataframe tbody tr th {\n",
       "        vertical-align: top;\n",
       "    }\n",
       "\n",
       "    .dataframe thead th {\n",
       "        text-align: right;\n",
       "    }\n",
       "</style>\n",
       "<table border=\"1\" class=\"dataframe\">\n",
       "  <thead>\n",
       "    <tr style=\"text-align: right;\">\n",
       "      <th></th>\n",
       "      <th>Country/Region</th>\n",
       "      <th>Tests/1M pop</th>\n",
       "    </tr>\n",
       "  </thead>\n",
       "  <tbody>\n",
       "    <tr>\n",
       "      <th>91</th>\n",
       "      <td>Luxembourg</td>\n",
       "      <td>995282.0</td>\n",
       "    </tr>\n",
       "    <tr>\n",
       "      <th>185</th>\n",
       "      <td>Monaco</td>\n",
       "      <td>972982.0</td>\n",
       "    </tr>\n",
       "    <tr>\n",
       "      <th>172</th>\n",
       "      <td>Faeroe Islands</td>\n",
       "      <td>880590.0</td>\n",
       "    </tr>\n",
       "    <tr>\n",
       "      <th>177</th>\n",
       "      <td>Gibraltar</td>\n",
       "      <td>684565.0</td>\n",
       "    </tr>\n",
       "    <tr>\n",
       "      <th>38</th>\n",
       "      <td>UAE</td>\n",
       "      <td>531470.0</td>\n",
       "    </tr>\n",
       "  </tbody>\n",
       "</table>\n",
       "</div>"
      ],
      "text/plain": [
       "     Country/Region  Tests/1M pop\n",
       "91       Luxembourg      995282.0\n",
       "185          Monaco      972982.0\n",
       "172  Faeroe Islands      880590.0\n",
       "177       Gibraltar      684565.0\n",
       "38              UAE      531470.0"
      ]
     },
     "execution_count": 10,
     "metadata": {},
     "output_type": "execute_result"
    }
   ],
   "source": [
    "df2[['Country/Region', 'Tests/1M pop']].sort_values(by='Tests/1M pop', ascending=False).head()\n"
   ]
  },
  {
   "cell_type": "markdown",
   "id": "7602fd7d-394c-4756-875b-c9807b377af4",
   "metadata": {},
   "source": [
    "### Dataset 3 - day_wise.csv"
   ]
  },
  {
   "cell_type": "markdown",
   "id": "1512abaf-0ef7-4703-9e95-586f343b1a03",
   "metadata": {},
   "source": [
    "Step 1 : Load and preview the dataset"
   ]
  },
  {
   "cell_type": "code",
   "execution_count": 12,
   "id": "54fcfc4f-8bb8-443f-93c6-abadb6039321",
   "metadata": {},
   "outputs": [
    {
     "name": "stdout",
     "output_type": "stream",
     "text": [
      "         Date  Confirmed  Deaths  Recovered  Active  New cases  New deaths  \\\n",
      "0  2020-01-22        555      17         28     510          0           0   \n",
      "1  2020-01-23        654      18         30     606         99           1   \n",
      "2  2020-01-24        941      26         36     879        287           8   \n",
      "3  2020-01-25       1434      42         39    1353        493          16   \n",
      "4  2020-01-26       2118      56         52    2010        684          14   \n",
      "\n",
      "   New recovered  Deaths / 100 Cases  Recovered / 100 Cases  \\\n",
      "0              0                3.06                   5.05   \n",
      "1              2                2.75                   4.59   \n",
      "2              6                2.76                   3.83   \n",
      "3              3                2.93                   2.72   \n",
      "4             13                2.64                   2.46   \n",
      "\n",
      "   Deaths / 100 Recovered  No. of countries  \n",
      "0                   60.71                 6  \n",
      "1                   60.00                 8  \n",
      "2                   72.22                 9  \n",
      "3                  107.69                11  \n",
      "4                  107.69                13  \n"
     ]
    }
   ],
   "source": [
    "df3 = pd.read_csv(\"C:/Users/User/Downloads/day_wise.csv\")\n",
    "print(df3.head())"
   ]
  },
  {
   "cell_type": "markdown",
   "id": "8bbe1e9f-6b94-4756-bceb-314eb46233f5",
   "metadata": {},
   "source": [
    "Step 2 : Info and summary"
   ]
  },
  {
   "cell_type": "code",
   "execution_count": 13,
   "id": "c8dc7173-d32f-49ab-ae16-e85c838f233d",
   "metadata": {},
   "outputs": [
    {
     "name": "stdout",
     "output_type": "stream",
     "text": [
      "<class 'pandas.core.frame.DataFrame'>\n",
      "RangeIndex: 188 entries, 0 to 187\n",
      "Data columns (total 12 columns):\n",
      " #   Column                  Non-Null Count  Dtype  \n",
      "---  ------                  --------------  -----  \n",
      " 0   Date                    188 non-null    object \n",
      " 1   Confirmed               188 non-null    int64  \n",
      " 2   Deaths                  188 non-null    int64  \n",
      " 3   Recovered               188 non-null    int64  \n",
      " 4   Active                  188 non-null    int64  \n",
      " 5   New cases               188 non-null    int64  \n",
      " 6   New deaths              188 non-null    int64  \n",
      " 7   New recovered           188 non-null    int64  \n",
      " 8   Deaths / 100 Cases      188 non-null    float64\n",
      " 9   Recovered / 100 Cases   188 non-null    float64\n",
      " 10  Deaths / 100 Recovered  188 non-null    float64\n",
      " 11  No. of countries        188 non-null    int64  \n",
      "dtypes: float64(3), int64(8), object(1)\n",
      "memory usage: 17.8+ KB\n",
      "None\n",
      "              Date     Confirmed         Deaths     Recovered        Active  \\\n",
      "count          188  1.880000e+02     188.000000  1.880000e+02  1.880000e+02   \n",
      "unique         188           NaN            NaN           NaN           NaN   \n",
      "top     2020-01-22           NaN            NaN           NaN           NaN   \n",
      "freq             1           NaN            NaN           NaN           NaN   \n",
      "mean           NaN  4.406960e+06  230770.760638  2.066001e+06  2.110188e+06   \n",
      "std            NaN  4.757988e+06  217929.094183  2.627976e+06  1.969670e+06   \n",
      "min            NaN  5.550000e+02      17.000000  2.800000e+01  5.100000e+02   \n",
      "25%            NaN  1.121910e+05    3935.000000  6.044125e+04  5.864175e+04   \n",
      "50%            NaN  2.848733e+06  204190.000000  7.847840e+05  1.859759e+06   \n",
      "75%            NaN  7.422046e+06  418634.500000  3.416396e+06  3.587015e+06   \n",
      "max            NaN  1.648048e+07  654036.000000  9.468087e+06  6.358362e+06   \n",
      "\n",
      "            New cases   New deaths  New recovered  Deaths / 100 Cases  \\\n",
      "count      188.000000   188.000000     188.000000          188.000000   \n",
      "unique            NaN          NaN            NaN                 NaN   \n",
      "top               NaN          NaN            NaN                 NaN   \n",
      "freq              NaN          NaN            NaN                 NaN   \n",
      "mean     87771.021277  3478.824468   50362.015957            4.860638   \n",
      "std      75295.293255  2537.735652   56090.892479            1.579541   \n",
      "min          0.000000     0.000000       0.000000            2.040000   \n",
      "25%       5568.500000   250.750000    2488.250000            3.510000   \n",
      "50%      81114.000000  4116.000000   30991.500000            4.850000   \n",
      "75%     131502.500000  5346.000000   79706.250000            6.297500   \n",
      "max     282756.000000  9966.000000  284394.000000            7.180000   \n",
      "\n",
      "        Recovered / 100 Cases  Deaths / 100 Recovered  No. of countries  \n",
      "count              188.000000              188.000000        188.000000  \n",
      "unique                    NaN                     NaN               NaN  \n",
      "top                       NaN                     NaN               NaN  \n",
      "freq                      NaN                     NaN               NaN  \n",
      "mean                34.343936               22.104521        144.351064  \n",
      "std                 16.206159               22.568307         65.175979  \n",
      "min                  1.710000                6.260000          6.000000  \n",
      "25%                 22.785000                9.650000        101.250000  \n",
      "50%                 35.680000               15.380000        184.000000  \n",
      "75%                 48.945000               25.342500        187.000000  \n",
      "max                 57.450000              134.430000        187.000000  \n"
     ]
    }
   ],
   "source": [
    "print(df3.info())\n",
    "print(df3.describe(include='all'))"
   ]
  },
  {
   "cell_type": "markdown",
   "id": "ad3a6093-c90b-4432-ad87-2149ee1610e4",
   "metadata": {},
   "source": [
    "Step 3 : Missing value check"
   ]
  },
  {
   "cell_type": "code",
   "execution_count": 14,
   "id": "418ee18d-b8fa-4982-85bd-7d19df9a2891",
   "metadata": {},
   "outputs": [
    {
     "name": "stdout",
     "output_type": "stream",
     "text": [
      "Missing values:\n",
      " Date                      0\n",
      "Confirmed                 0\n",
      "Deaths                    0\n",
      "Recovered                 0\n",
      "Active                    0\n",
      "New cases                 0\n",
      "New deaths                0\n",
      "New recovered             0\n",
      "Deaths / 100 Cases        0\n",
      "Recovered / 100 Cases     0\n",
      "Deaths / 100 Recovered    0\n",
      "No. of countries          0\n",
      "dtype: int64\n"
     ]
    }
   ],
   "source": [
    "print(\"Missing values:\\n\", df3.isnull().sum())"
   ]
  },
  {
   "cell_type": "markdown",
   "id": "b181318d-fd49-443b-82de-b66f57176beb",
   "metadata": {},
   "source": [
    "Step 4 : Growth trend over time"
   ]
  },
  {
   "cell_type": "code",
   "execution_count": 15,
   "id": "31b238b1-095e-41a2-ba6a-64aae68666c6",
   "metadata": {},
   "outputs": [
    {
     "data": {
      "image/png": "[encoded data removed]",
      "text/plain": [
       "<Figure size 640x480 with 1 Axes>"
      ]
     },
     "metadata": {},
     "output_type": "display_data"
    }
   ],
   "source": [
    "import matplotlib.pyplot as plt\n",
    "\n",
    "df3['Date'] = pd.to_datetime(df3['Date'])\n",
    "df3.set_index('Date')['Confirmed'].plot(title='Confirmed Cases Over Time')\n",
    "plt.xlabel(\"Date\")\n",
    "plt.ylabel(\"Total Confirmed Cases\")\n",
    "plt.grid(True)\n",
    "plt.show()\n"
   ]
  },
  {
   "cell_type": "markdown",
   "id": "2611c985-59cf-44ee-806b-8710d3b9530e",
   "metadata": {},
   "source": [
    "### Dataset 4 - full_grouped.csv"
   ]
  },
  {
   "cell_type": "markdown",
   "id": "6694a2bf-4ad6-46a7-af2a-2358b41a9564",
   "metadata": {},
   "source": [
    "Step 1 : Load and preview the dataset"
   ]
  },
  {
   "cell_type": "code",
   "execution_count": 17,
   "id": "027514de-c87e-4c75-87e0-c366e2ed494c",
   "metadata": {},
   "outputs": [
    {
     "name": "stdout",
     "output_type": "stream",
     "text": [
      "         Date Country/Region  Confirmed  Deaths  Recovered  Active  New cases  \\\n",
      "0  2020-01-22    Afghanistan          0       0          0       0          0   \n",
      "1  2020-01-22        Albania          0       0          0       0          0   \n",
      "2  2020-01-22        Algeria          0       0          0       0          0   \n",
      "3  2020-01-22        Andorra          0       0          0       0          0   \n",
      "4  2020-01-22         Angola          0       0          0       0          0   \n",
      "\n",
      "   New deaths  New recovered             WHO Region  \n",
      "0           0              0  Eastern Mediterranean  \n",
      "1           0              0                 Europe  \n",
      "2           0              0                 Africa  \n",
      "3           0              0                 Europe  \n",
      "4           0              0                 Africa  \n"
     ]
    }
   ],
   "source": [
    "df4 = pd.read_csv(\"C:/Users/User/Downloads/full_grouped.csv\")\n",
    "print(df4.head())\n"
   ]
  },
  {
   "cell_type": "markdown",
   "id": "050f7cf3-b19e-4d83-bb67-8e5c27970bbd",
   "metadata": {},
   "source": [
    "Step 2 : Info and summary"
   ]
  },
  {
   "cell_type": "code",
   "execution_count": 18,
   "id": "6629e635-6bcc-4e1c-8be3-01cef58bcca7",
   "metadata": {},
   "outputs": [
    {
     "name": "stdout",
     "output_type": "stream",
     "text": [
      "<class 'pandas.core.frame.DataFrame'>\n",
      "RangeIndex: 35156 entries, 0 to 35155\n",
      "Data columns (total 10 columns):\n",
      " #   Column          Non-Null Count  Dtype \n",
      "---  ------          --------------  ----- \n",
      " 0   Date            35156 non-null  object\n",
      " 1   Country/Region  35156 non-null  object\n",
      " 2   Confirmed       35156 non-null  int64 \n",
      " 3   Deaths          35156 non-null  int64 \n",
      " 4   Recovered       35156 non-null  int64 \n",
      " 5   Active          35156 non-null  int64 \n",
      " 6   New cases       35156 non-null  int64 \n",
      " 7   New deaths      35156 non-null  int64 \n",
      " 8   New recovered   35156 non-null  int64 \n",
      " 9   WHO Region      35156 non-null  object\n",
      "dtypes: int64(7), object(3)\n",
      "memory usage: 2.7+ MB\n",
      "None\n",
      "              Date Country/Region     Confirmed         Deaths     Recovered  \\\n",
      "count        35156          35156  3.515600e+04   35156.000000  3.515600e+04   \n",
      "unique         188            187           NaN            NaN           NaN   \n",
      "top     2020-01-22    Afghanistan           NaN            NaN           NaN   \n",
      "freq           187            188           NaN            NaN           NaN   \n",
      "mean           NaN            NaN  2.356663e+04    1234.068239  1.104813e+04   \n",
      "std            NaN            NaN  1.499818e+05    7437.238354  6.454640e+04   \n",
      "min            NaN            NaN  0.000000e+00       0.000000  0.000000e+00   \n",
      "25%            NaN            NaN  1.000000e+00       0.000000  0.000000e+00   \n",
      "50%            NaN            NaN  2.500000e+02       4.000000  3.300000e+01   \n",
      "75%            NaN            NaN  3.640250e+03      78.250000  1.286250e+03   \n",
      "max            NaN            NaN  4.290259e+06  148011.000000  1.846641e+06   \n",
      "\n",
      "              Active    New cases    New deaths  New recovered WHO Region  \n",
      "count   3.515600e+04  35156.00000  35156.000000   35156.000000      35156  \n",
      "unique           NaN          NaN           NaN            NaN          6  \n",
      "top              NaN          NaN           NaN            NaN     Europe  \n",
      "freq             NaN          NaN           NaN            NaN      10528  \n",
      "mean    1.128443e+04    469.36375     18.603339     269.315593        NaN  \n",
      "std     8.997149e+04   3005.86754    115.706351    2068.063852        NaN  \n",
      "min    -2.000000e+00      0.00000  -1918.000000  -16298.000000        NaN  \n",
      "25%     0.000000e+00      0.00000      0.000000       0.000000        NaN  \n",
      "50%     8.500000e+01      2.00000      0.000000       0.000000        NaN  \n",
      "75%     1.454000e+03     75.00000      1.000000      20.000000        NaN  \n",
      "max     2.816444e+06  77255.00000   3887.000000  140050.000000        NaN  \n"
     ]
    }
   ],
   "source": [
    "print(df4.info())\n",
    "print(df4.describe(include='all'))"
   ]
  },
  {
   "cell_type": "markdown",
   "id": "8be009dc-b3f7-403a-9fc5-e20aca496467",
   "metadata": {},
   "source": [
    "Step 3 : Missing value check"
   ]
  },
  {
   "cell_type": "code",
   "execution_count": 19,
   "id": "9ee598c8-5a40-418b-84c8-481148d39e58",
   "metadata": {},
   "outputs": [
    {
     "name": "stdout",
     "output_type": "stream",
     "text": [
      "Missing values:\n",
      " Date              0\n",
      "Country/Region    0\n",
      "Confirmed         0\n",
      "Deaths            0\n",
      "Recovered         0\n",
      "Active            0\n",
      "New cases         0\n",
      "New deaths        0\n",
      "New recovered     0\n",
      "WHO Region        0\n",
      "dtype: int64\n"
     ]
    }
   ],
   "source": [
    "print(\"Missing values:\\n\", df4.isnull().sum())\n"
   ]
  },
  {
   "cell_type": "markdown",
   "id": "8acc6e0f-a46c-41e1-a4a2-5b6593590b57",
   "metadata": {},
   "source": [
    "Step 4 : Daily trend"
   ]
  },
  {
   "cell_type": "code",
   "execution_count": 20,
   "id": "545d05bb-14c6-4815-a17d-3e2c4ed9b4d9",
   "metadata": {},
   "outputs": [
    {
     "data": {
      "image/png": "[encoded data removed]",
      "text/plain": [
       "<Figure size 640x480 with 1 Axes>"
      ]
     },
     "metadata": {},
     "output_type": "display_data"
    }
   ],
   "source": [
    "df4['Date'] = pd.to_datetime(df4['Date'])\n",
    "daily_cases = df4.groupby('Date')['New cases'].sum()\n",
    "daily_cases.plot(title='Global New Cases Over Time')\n",
    "plt.xlabel(\"Date\")\n",
    "plt.ylabel(\"New Cases\")\n",
    "plt.grid(True)\n",
    "plt.show()"
   ]
  },
  {
   "cell_type": "markdown",
   "id": "34a035aa-8aa3-4440-92d7-995030609c56",
   "metadata": {},
   "source": [
    "### Dataset 6 - ds_salaries.csv"
   ]
  },
  {
   "cell_type": "markdown",
   "id": "87ad4de7-f7ab-4ac1-bfda-15e0f2afac2b",
   "metadata": {},
   "source": [
    "Step 1 : Load and preview the dataset"
   ]
  },
  {
   "cell_type": "code",
   "execution_count": 21,
   "id": "4560963b-230f-4178-9644-1fc5e4f8c3b6",
   "metadata": {},
   "outputs": [
    {
     "name": "stdout",
     "output_type": "stream",
     "text": [
      "   Unnamed: 0  work_year experience_level employment_type  \\\n",
      "0           0       2020               MI              FT   \n",
      "1           1       2020               SE              FT   \n",
      "2           2       2020               SE              FT   \n",
      "3           3       2020               MI              FT   \n",
      "4           4       2020               SE              FT   \n",
      "\n",
      "                    job_title  salary salary_currency  salary_in_usd  \\\n",
      "0              Data Scientist   70000             EUR          79833   \n",
      "1  Machine Learning Scientist  260000             USD         260000   \n",
      "2           Big Data Engineer   85000             GBP         109024   \n",
      "3        Product Data Analyst   20000             USD          20000   \n",
      "4   Machine Learning Engineer  150000             USD         150000   \n",
      "\n",
      "  employee_residence  remote_ratio company_location company_size  \n",
      "0                 DE             0               DE            L  \n",
      "1                 JP             0               JP            S  \n",
      "2                 GB            50               GB            M  \n",
      "3                 HN             0               HN            S  \n",
      "4                 US            50               US            L  \n"
     ]
    }
   ],
   "source": [
    "df6 = pd.read_csv(\"C:/Users/User/Downloads/ds_salaries.csv\")\n",
    "print(df6.head())\n"
   ]
  },
  {
   "cell_type": "markdown",
   "id": "46943c14-4a13-4b49-9fbc-48ef6cf7aeb7",
   "metadata": {},
   "source": [
    "Step 2 : Info and summary"
   ]
  },
  {
   "cell_type": "code",
   "execution_count": 22,
   "id": "53f8c000-91ce-4c73-a6d1-7066334c4888",
   "metadata": {},
   "outputs": [
    {
     "name": "stdout",
     "output_type": "stream",
     "text": [
      "<class 'pandas.core.frame.DataFrame'>\n",
      "RangeIndex: 607 entries, 0 to 606\n",
      "Data columns (total 12 columns):\n",
      " #   Column              Non-Null Count  Dtype \n",
      "---  ------              --------------  ----- \n",
      " 0   Unnamed: 0          607 non-null    int64 \n",
      " 1   work_year           607 non-null    int64 \n",
      " 2   experience_level    607 non-null    object\n",
      " 3   employment_type     607 non-null    object\n",
      " 4   job_title           607 non-null    object\n",
      " 5   salary              607 non-null    int64 \n",
      " 6   salary_currency     607 non-null    object\n",
      " 7   salary_in_usd       607 non-null    int64 \n",
      " 8   employee_residence  607 non-null    object\n",
      " 9   remote_ratio        607 non-null    int64 \n",
      " 10  company_location    607 non-null    object\n",
      " 11  company_size        607 non-null    object\n",
      "dtypes: int64(5), object(7)\n",
      "memory usage: 57.0+ KB\n",
      "None\n",
      "        Unnamed: 0    work_year experience_level employment_type  \\\n",
      "count   607.000000   607.000000              607             607   \n",
      "unique         NaN          NaN                4               4   \n",
      "top            NaN          NaN               SE              FT   \n",
      "freq           NaN          NaN              280             588   \n",
      "mean    303.000000  2021.405272              NaN             NaN   \n",
      "std     175.370085     0.692133              NaN             NaN   \n",
      "min       0.000000  2020.000000              NaN             NaN   \n",
      "25%     151.500000  2021.000000              NaN             NaN   \n",
      "50%     303.000000  2022.000000              NaN             NaN   \n",
      "75%     454.500000  2022.000000              NaN             NaN   \n",
      "max     606.000000  2022.000000              NaN             NaN   \n",
      "\n",
      "             job_title        salary salary_currency  salary_in_usd  \\\n",
      "count              607  6.070000e+02             607     607.000000   \n",
      "unique              50           NaN              17            NaN   \n",
      "top     Data Scientist           NaN             USD            NaN   \n",
      "freq               143           NaN             398            NaN   \n",
      "mean               NaN  3.240001e+05             NaN  112297.869852   \n",
      "std                NaN  1.544357e+06             NaN   70957.259411   \n",
      "min                NaN  4.000000e+03             NaN    2859.000000   \n",
      "25%                NaN  7.000000e+04             NaN   62726.000000   \n",
      "50%                NaN  1.150000e+05             NaN  101570.000000   \n",
      "75%                NaN  1.650000e+05             NaN  150000.000000   \n",
      "max                NaN  3.040000e+07             NaN  600000.000000   \n",
      "\n",
      "       employee_residence  remote_ratio company_location company_size  \n",
      "count                 607     607.00000              607          607  \n",
      "unique                 57           NaN               50            3  \n",
      "top                    US           NaN               US            M  \n",
      "freq                  332           NaN              355          326  \n",
      "mean                  NaN      70.92257              NaN          NaN  \n",
      "std                   NaN      40.70913              NaN          NaN  \n",
      "min                   NaN       0.00000              NaN          NaN  \n",
      "25%                   NaN      50.00000              NaN          NaN  \n",
      "50%                   NaN     100.00000              NaN          NaN  \n",
      "75%                   NaN     100.00000              NaN          NaN  \n",
      "max                   NaN     100.00000              NaN          NaN  \n"
     ]
    }
   ],
   "source": [
    "print(df6.info())\n",
    "print(df6.describe(include='all'))"
   ]
  },
  {
   "cell_type": "markdown",
   "id": "b73d30bd-2bb3-473b-a14b-858af5a7fee7",
   "metadata": {},
   "source": [
    "Step 3 : Top paying roles"
   ]
  },
  {
   "cell_type": "code",
   "execution_count": 23,
   "id": "e5444270-f37e-4013-9c51-de5f756fb018",
   "metadata": {},
   "outputs": [
    {
     "name": "stdout",
     "output_type": "stream",
     "text": [
      "job_title\n",
      "Data Analytics Lead         405000.000000\n",
      "Principal Data Engineer     328333.333333\n",
      "Financial Data Analyst      275000.000000\n",
      "Principal Data Scientist    215242.428571\n",
      "Director of Data Science    195074.000000\n",
      "Data Architect              177873.909091\n",
      "Applied Data Scientist      175655.000000\n",
      "Analytics Engineer          175000.000000\n",
      "Data Specialist             165000.000000\n",
      "Head of Data                160162.600000\n",
      "Name: salary_in_usd, dtype: float64\n"
     ]
    }
   ],
   "source": [
    "top_roles = df6.groupby('job_title')['salary_in_usd'].mean().sort_values(ascending=False).head(10)\n",
    "print(top_roles)\n"
   ]
  },
  {
   "cell_type": "markdown",
   "id": "8d6ff00d-5c55-409c-8f30-d73a1bf86679",
   "metadata": {},
   "source": [
    "Step 4 : Salary trend by experience"
   ]
  },
  {
   "cell_type": "code",
   "execution_count": 24,
   "id": "9bc15161-bacc-4b98-9baf-3eac9fbdacdf",
   "metadata": {},
   "outputs": [
    {
     "data": {
      "image/png": "[encoded data removed]",
      "text/plain": [
       "<Figure size 640x480 with 1 Axes>"
      ]
     },
     "metadata": {},
     "output_type": "display_data"
    }
   ],
   "source": [
    "import seaborn as sns\n",
    "sns.boxplot(x='experience_level', y='salary_in_usd', data=df6)\n",
    "plt.title(\"Salary Distribution by Experience Level\")\n",
    "plt.show()\n"
   ]
  },
  {
   "cell_type": "code",
   "execution_count": null,
   "id": "0a7d5c16-4550-40d1-a87f-440eeb5cda7f",
   "metadata": {},
   "outputs": [],
   "source": []
  }
 ],
 "metadata": {
  "kernelspec": {
   "display_name": "Python 3 (ipykernel)",
   "language": "python",
   "name": "python3"
  },
  "language_info": {
   "codemirror_mode": {
    "name": "ipython",
    "version": 3
   },
   "file_extension": ".py",
   "mimetype": "text/x-python",
   "name": "python",
   "nbconvert_exporter": "python",
   "pygments_lexer": "ipython3",
   "version": "3.12.7"
  }
 },
 "nbformat": 4,
 "nbformat_minor": 5
}
