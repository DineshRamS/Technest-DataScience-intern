{
 "cells": [
  {
   "cell_type": "markdown",
   "id": "ddc8c3bc-3397-41c3-880d-2c04073c193d",
   "metadata": {},
   "source": [
    "Step 1 : Data Ingestion"
   ]
  },
  {
   "cell_type": "code",
   "execution_count": 2,
   "id": "5302f5b7-bc46-4545-b640-788c6ce1abaa",
   "metadata": {},
   "outputs": [
    {
     "name": "stdout",
     "output_type": "stream",
     "text": [
      "Raw Data Snapshot:\n",
      "    PassengerId  Survived  Pclass  \\\n",
      "0            1         0       3   \n",
      "1            2         1       1   \n",
      "2            3         1       3   \n",
      "3            4         1       1   \n",
      "4            5         0       3   \n",
      "\n",
      "                                                Name     Sex   Age  SibSp  \\\n",
      "0                            Braund, Mr. Owen Harris    male  22.0      1   \n",
      "1  Cumings, Mrs. John Bradley (Florence Briggs Th...  female  38.0      1   \n",
      "2                             Heikkinen, Miss. Laina  female  26.0      0   \n",
      "3       Futrelle, Mrs. Jacques Heath (Lily May Peel)  female  35.0      1   \n",
      "4                           Allen, Mr. William Henry    male  35.0      0   \n",
      "\n",
      "   Parch            Ticket     Fare Cabin Embarked  \n",
      "0      0         A/5 21171   7.2500   NaN        S  \n",
      "1      0          PC 17599  71.2833   C85        C  \n",
      "2      0  STON/O2. 3101282   7.9250   NaN        S  \n",
      "3      0            113803  53.1000  C123        S  \n",
      "4      0            373450   8.0500   NaN        S   \n",
      "\n"
     ]
    }
   ],
   "source": [
    "import pandas as pd\n",
    "df = pd.read_csv(\"C:/Users/User/Downloads/Titanic-Dataset.csv\")\n",
    "print(\"Raw Data Snapshot:\\n\", df.head(), \"\\n\")\n"
   ]
  },
  {
   "cell_type": "markdown",
   "id": "632db631-429f-4f37-b05f-bd209bd094d9",
   "metadata": {},
   "source": [
    "Step 2 : Data cleaning"
   ]
  },
  {
   "cell_type": "code",
   "execution_count": 5,
   "id": "ce034702-4ac8-40f5-8dff-250aefdb9be7",
   "metadata": {},
   "outputs": [
    {
     "name": "stdout",
     "output_type": "stream",
     "text": [
      "After Dropping Duplicates:\n",
      "    PassengerId  Survived  Pclass  \\\n",
      "0            1         0       3   \n",
      "1            2         1       1   \n",
      "2            3         1       3   \n",
      "3            4         1       1   \n",
      "4            5         0       3   \n",
      "\n",
      "                                                Name     Sex   Age  SibSp  \\\n",
      "0                            Braund, Mr. Owen Harris    male  22.0      1   \n",
      "1  Cumings, Mrs. John Bradley (Florence Briggs Th...  female  38.0      1   \n",
      "2                             Heikkinen, Miss. Laina  female  26.0      0   \n",
      "3       Futrelle, Mrs. Jacques Heath (Lily May Peel)  female  35.0      1   \n",
      "4                           Allen, Mr. William Henry    male  35.0      0   \n",
      "\n",
      "   Parch            Ticket     Fare Embarked  \n",
      "0      0         A/5 21171   7.2500        S  \n",
      "1      0          PC 17599  71.2833        C  \n",
      "2      0  STON/O2. 3101282   7.9250        S  \n",
      "3      0            113803  53.1000        S  \n",
      "4      0            373450   8.0500        S   \n",
      "\n",
      "After Imputing Age and Embarked, and Dropping Cabin:\n",
      "    PassengerId  Survived  Pclass  \\\n",
      "0            1         0       3   \n",
      "1            2         1       1   \n",
      "2            3         1       3   \n",
      "3            4         1       1   \n",
      "4            5         0       3   \n",
      "\n",
      "                                                Name     Sex   Age  SibSp  \\\n",
      "0                            Braund, Mr. Owen Harris    male  22.0      1   \n",
      "1  Cumings, Mrs. John Bradley (Florence Briggs Th...  female  38.0      1   \n",
      "2                             Heikkinen, Miss. Laina  female  26.0      0   \n",
      "3       Futrelle, Mrs. Jacques Heath (Lily May Peel)  female  35.0      1   \n",
      "4                           Allen, Mr. William Henry    male  35.0      0   \n",
      "\n",
      "   Parch            Ticket     Fare Embarked  \n",
      "0      0         A/5 21171   7.2500        S  \n",
      "1      0          PC 17599  71.2833        C  \n",
      "2      0  STON/O2. 3101282   7.9250        S  \n",
      "3      0            113803  53.1000        S  \n",
      "4      0            373450   8.0500        S   \n",
      "\n"
     ]
    }
   ],
   "source": [
    "df.drop_duplicates(inplace=True)\n",
    "print(\"After Dropping Duplicates:\\n\", df.head(), \"\\n\")\n",
    "df.loc[:, 'Age'] = df['Age'].fillna(df['Age'].median())\n",
    "df.loc[:, 'Embarked'] = df['Embarked'].fillna(df['Embarked'].mode()[0])\n",
    "df.drop(columns=['Cabin'], inplace=True, errors='ignore')\n",
    "print(\"After Imputing Age and Embarked, and Dropping Cabin:\\n\", df.head(), \"\\n\")\n"
   ]
  },
  {
   "cell_type": "markdown",
   "id": "d6ec7dea-2098-4f39-a6b9-53799d8591d4",
   "metadata": {},
   "source": [
    "Step 3 : Feature engineering"
   ]
  },
  {
   "cell_type": "code",
   "execution_count": 8,
   "id": "63e27492-5bc4-416d-9eb8-d418e2d78ec7",
   "metadata": {},
   "outputs": [
    {
     "name": "stdout",
     "output_type": "stream",
     "text": [
      "After Label Encoding 'Sex' and 'Embarked':\n",
      "    Sex  Embarked\n",
      "0    1         2\n",
      "1    0         0\n",
      "2    0         2\n",
      "3    0         2\n",
      "4    1         2 \n",
      "\n",
      "After Creating FamilySize:\n",
      "    SibSp  Parch  FamilySize\n",
      "0      1      0           2\n",
      "1      1      0           2\n",
      "2      0      0           1\n",
      "3      1      0           2\n",
      "4      0      0           1 \n",
      "\n",
      "After Extracting and Encoding Title:\n",
      "                                                 Name  Title\n",
      "0                            Braund, Mr. Owen Harris      4\n",
      "1  Cumings, Mrs. John Bradley (Florence Briggs Th...      5\n",
      "2                             Heikkinen, Miss. Laina      3\n",
      "3       Futrelle, Mrs. Jacques Heath (Lily May Peel)      5\n",
      "4                           Allen, Mr. William Henry      4 \n",
      "\n"
     ]
    }
   ],
   "source": [
    "from sklearn.preprocessing import LabelEncoder\n",
    "le = LabelEncoder()\n",
    "df['Sex'] = le.fit_transform(df['Sex'])\n",
    "df['Embarked'] = le.fit_transform(df['Embarked'])\n",
    "print(\"After Label Encoding 'Sex' and 'Embarked':\\n\", df[['Sex', 'Embarked']].head(), \"\\n\")\n",
    "df['FamilySize'] = df['SibSp'] + df['Parch'] + 1\n",
    "print(\"After Creating FamilySize:\\n\", df[['SibSp', 'Parch', 'FamilySize']].head(), \"\\n\")\n",
    "df['Title'] = df['Title'].replace(['Mlle', 'Ms'], 'Miss')\n",
    "df['Title'] = df['Title'].replace(['Mme', 'Lady', 'Countess', 'Dona'], 'Mrs')\n",
    "df['Title'] = df['Title'].replace(['Capt', 'Col', 'Major', 'Dr', 'Rev'], 'Officer')\n",
    "df['Title'] = le.fit_transform(df['Title'])\n",
    "print(\"After Extracting and Encoding Title:\\n\", df[['Name', 'Title']].head(), \"\\n\")\n"
   ]
  },
  {
   "cell_type": "markdown",
   "id": "126fa5a4-a0e7-45cd-a47e-84f7c3ffd21f",
   "metadata": {},
   "source": [
    "Step 4 : Transformation"
   ]
  },
  {
   "cell_type": "code",
   "execution_count": 10,
   "id": "2100049f-2f50-4d3d-9cbd-9d6bd6aaf35e",
   "metadata": {},
   "outputs": [
    {
     "name": "stdout",
     "output_type": "stream",
     "text": [
      "Training Feature Sample:\n",
      "      Pclass  Sex   Age     Fare  Embarked  FamilySize  Title\n",
      "331       1    1  45.5  28.5000         2           1      4\n",
      "733       2    1  23.0  13.0000         2           1      4\n",
      "382       3    1  32.0   7.9250         2           1      4\n",
      "704       3    1  26.0   7.8542         2           2      4\n",
      "813       3    0   6.0  31.2750         2           7      3 \n",
      "\n",
      "Training Label Sample:\n",
      " 331    0\n",
      "733    0\n",
      "382    0\n",
      "704    0\n",
      "813    0\n",
      "Name: Survived, dtype: int64 \n",
      "\n"
     ]
    }
   ],
   "source": [
    "from sklearn.model_selection import train_test_split\n",
    "features = ['Pclass', 'Sex', 'Age', 'Fare', 'Embarked', 'FamilySize', 'Title']\n",
    "X = df[features]\n",
    "y = df['Survived']\n",
    "X_train, X_test, y_train, y_test = train_test_split(X, y, test_size=0.2, random_state=42)\n",
    "print(\"Training Feature Sample:\\n\", X_train.head(), \"\\n\")\n",
    "print(\"Training Label Sample:\\n\", y_train.head(), \"\\n\")\n"
   ]
  },
  {
   "cell_type": "markdown",
   "id": "59ab1610-01bd-4456-bd9d-6b8a28bda2ac",
   "metadata": {},
   "source": [
    "Step 5 : Export cleaned data"
   ]
  },
  {
   "cell_type": "code",
   "execution_count": 12,
   "id": "a451ad73-f76f-4534-ba1e-db0b145e2317",
   "metadata": {},
   "outputs": [
    {
     "name": "stdout",
     "output_type": "stream",
     "text": [
      "Exported X_train.csv, X_test.csv, y_train.csv, y_test.csv\n"
     ]
    }
   ],
   "source": [
    "X_train.to_csv(\"X_train.csv\", index=False)\n",
    "X_test.to_csv(\"X_test.csv\", index=False)\n",
    "y_train.to_csv(\"y_train.csv\", index=False)\n",
    "y_test.to_csv(\"y_test.csv\", index=False)\n",
    "print(\"Exported X_train.csv, X_test.csv, y_train.csv, y_test.csv\")\n"
   ]
  },
  {
   "cell_type": "code",
   "execution_count": null,
   "id": "c62f2a4d-d442-4cbc-bde3-d3bb5091c7cd",
   "metadata": {},
   "outputs": [],
   "source": []
  }
 ],
 "metadata": {
  "kernelspec": {
   "display_name": "Python 3 (ipykernel)",
   "language": "python",
   "name": "python3"
  },
  "language_info": {
   "codemirror_mode": {
    "name": "ipython",
    "version": 3
   },
   "file_extension": ".py",
   "mimetype": "text/x-python",
   "name": "python",
   "nbconvert_exporter": "python",
   "pygments_lexer": "ipython3",
   "version": "3.12.7"
  }
 },
 "nbformat": 4,
 "nbformat_minor": 5
}
